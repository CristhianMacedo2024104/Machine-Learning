{
 "cells": [
  {
   "cell_type": "markdown",
   "id": "dbb47da6-b192-44df-a466-1e20b32f96eb",
   "metadata": {},
   "source": [
    "### CA1 – Machine Learning HDip\n",
    "#### Author: Cristhian Macedo - 2024104\n",
    "[GitHub Repository](https://github.com/CristhianMacedo2024104/Machine-Learning)"
   ]
  },
  {
   "cell_type": "markdown",
   "id": "8b4b2dcc-43fa-4a49-b4ab-5ec7c9a2e663",
   "metadata": {},
   "source": [
    "## 1. Data Understanding"
   ]
  },
  {
   "cell_type": "markdown",
   "id": "624e0c00-bf89-4849-931e-f996b83d13ea",
   "metadata": {},
   "source": [
    "### 1.1 Importing libraries\n",
    "\n",
    "Importing the required libraries \"`pandas`\" to start the project.\n",
    "\n",
    "Also importing \"`numpy`\", \"`seaborn`\" and \"`matplotlib.pyplot`\", in case it needs other libraries it will be imported when necessary it comes."
   ]
  },
  {
   "cell_type": "code",
   "execution_count": 1,
   "id": "fac541d1-b0b8-4a90-820e-2f8e542f4e63",
   "metadata": {},
   "outputs": [],
   "source": [
    "import pandas as pd\n",
    "import numpy as np\n",
    "\n",
    "import seaborn as sns\n",
    "import matplotlib.pyplot as plt\n",
    "\n",
    "%matplotlib inline\n",
    "sns.set()\n",
    "\n",
    "import warnings\n",
    "warnings.filterwarnings(\"ignore\")"
   ]
  },
  {
   "cell_type": "markdown",
   "id": "822f31f6-a331-453b-b5ee-7a026aeb27b0",
   "metadata": {},
   "source": [
    "### 1.2\tLoading Data from a CSV File\n",
    "\n",
    "Loading the dataset using the function “`.read_csv`” to import the required data existing in the Comma-separated values \"`.csv`\" file in the `df` variable."
   ]
  },
  {
   "cell_type": "code",
   "execution_count": 2,
   "id": "58fea231-f7f2-4758-a93f-e8c0f0135bff",
   "metadata": {},
   "outputs": [],
   "source": [
    "df = pd.read_csv(\"HPM04.20240416T220418.csv\")"
   ]
  },
  {
   "cell_type": "markdown",
   "id": "2e8e6c52-1190-4fc8-8a1a-40167fa1cd4e",
   "metadata": {},
   "source": [
    "### 1.3\tInspecting the Data Set\n",
    "\n",
    "The first command useful to start understanding the data is “`.head()`” to check the first 5 observations as default and features contained in the data frame after loaded. \n",
    "\n",
    "This command was important and necessary to get the first impression of it, returning that this dataset has **n** rows (observations) and **8** columns (features)."
   ]
  },
  {
   "cell_type": "code",
   "execution_count": 3,
   "id": "e0ba4008-61a3-46e8-9877-e33a3555ca17",
   "metadata": {},
   "outputs": [
    {
     "data": {
      "text/html": [
       "<div>\n",
       "<style scoped>\n",
       "    .dataframe tbody tr th:only-of-type {\n",
       "        vertical-align: middle;\n",
       "    }\n",
       "\n",
       "    .dataframe tbody tr th {\n",
       "        vertical-align: top;\n",
       "    }\n",
       "\n",
       "    .dataframe thead th {\n",
       "        text-align: right;\n",
       "    }\n",
       "</style>\n",
       "<table border=\"1\" class=\"dataframe\">\n",
       "  <thead>\n",
       "    <tr style=\"text-align: right;\">\n",
       "      <th></th>\n",
       "      <th>Statistic Label</th>\n",
       "      <th>Month</th>\n",
       "      <th>Dwelling Status</th>\n",
       "      <th>Eircode Output</th>\n",
       "      <th>Stamp Duty Event</th>\n",
       "      <th>Type of Buyer</th>\n",
       "      <th>UNIT</th>\n",
       "      <th>VALUE</th>\n",
       "    </tr>\n",
       "  </thead>\n",
       "  <tbody>\n",
       "    <tr>\n",
       "      <th>0</th>\n",
       "      <td>Mean Sale Price</td>\n",
       "      <td>2010 January</td>\n",
       "      <td>All Dwelling Statuses</td>\n",
       "      <td>A41: Ballyboughal</td>\n",
       "      <td>Executions</td>\n",
       "      <td>Household Buyer - First-Time Buyer Owner-Occupier</td>\n",
       "      <td>Euro</td>\n",
       "      <td>NaN</td>\n",
       "    </tr>\n",
       "    <tr>\n",
       "      <th>1</th>\n",
       "      <td>Mean Sale Price</td>\n",
       "      <td>2010 January</td>\n",
       "      <td>All Dwelling Statuses</td>\n",
       "      <td>A42: Garristown</td>\n",
       "      <td>Executions</td>\n",
       "      <td>Household Buyer - First-Time Buyer Owner-Occupier</td>\n",
       "      <td>Euro</td>\n",
       "      <td>NaN</td>\n",
       "    </tr>\n",
       "  </tbody>\n",
       "</table>\n",
       "</div>"
      ],
      "text/plain": [
       "   Statistic Label         Month        Dwelling Status     Eircode Output  \\\n",
       "0  Mean Sale Price  2010 January  All Dwelling Statuses  A41: Ballyboughal   \n",
       "1  Mean Sale Price  2010 January  All Dwelling Statuses    A42: Garristown   \n",
       "\n",
       "  Stamp Duty Event                                      Type of Buyer  UNIT  \\\n",
       "0       Executions  Household Buyer - First-Time Buyer Owner-Occupier  Euro   \n",
       "1       Executions  Household Buyer - First-Time Buyer Owner-Occupier  Euro   \n",
       "\n",
       "   VALUE  \n",
       "0    NaN  \n",
       "1    NaN  "
      ]
     },
     "execution_count": 3,
     "metadata": {},
     "output_type": "execute_result"
    }
   ],
   "source": [
    "df.head(2)"
   ]
  },
  {
   "cell_type": "markdown",
   "id": "a72b94b8-8c78-4672-b25e-94a520608ec8",
   "metadata": {},
   "source": [
    "Thereafter using the command “`shape`” shows us the complete body of the data, in this case **23491** observations and **8** features to be analysed."
   ]
  },
  {
   "cell_type": "code",
   "execution_count": 4,
   "id": "5dec6717-5332-43be-aae8-587a8bdc3e4a",
   "metadata": {},
   "outputs": [
    {
     "data": {
      "text/plain": [
       "(23491, 8)"
      ]
     },
     "execution_count": 4,
     "metadata": {},
     "output_type": "execute_result"
    }
   ],
   "source": [
    "df.shape"
   ]
  },
  {
   "cell_type": "markdown",
   "id": "384e18db-96a2-4e66-8acd-cfe094a45fc5",
   "metadata": {},
   "source": [
    "Used “```.info()```” next to Print a concise summary of a DataFrame. Getting this information it was necessary to learn the names of features existing and the difference between the total of observations shown before in the “`shape`” command and their respective data types."
   ]
  },
  {
   "cell_type": "code",
   "execution_count": 5,
   "id": "996b58d0-7352-448e-ada4-e23747b8f149",
   "metadata": {},
   "outputs": [
    {
     "name": "stdout",
     "output_type": "stream",
     "text": [
      "<class 'pandas.core.frame.DataFrame'>\n",
      "RangeIndex: 23491 entries, 0 to 23490\n",
      "Data columns (total 8 columns):\n",
      " #   Column            Non-Null Count  Dtype  \n",
      "---  ------            --------------  -----  \n",
      " 0   Statistic Label   23491 non-null  object \n",
      " 1   Month             23491 non-null  object \n",
      " 2   Dwelling Status   23491 non-null  object \n",
      " 3   Eircode Output    23491 non-null  object \n",
      " 4   Stamp Duty Event  23491 non-null  object \n",
      " 5   Type of Buyer     23491 non-null  object \n",
      " 6   UNIT              23491 non-null  object \n",
      " 7   VALUE             20302 non-null  float64\n",
      "dtypes: float64(1), object(7)\n",
      "memory usage: 1.4+ MB\n"
     ]
    }
   ],
   "source": [
    "df.info()"
   ]
  },
  {
   "cell_type": "markdown",
   "id": "8e25042f-f32c-409d-92f9-0f4e59f977c3",
   "metadata": {},
   "source": [
    "The \"`.describe()`\" function shows us a little more about each feature, we can see statistics information about: count, mean, standard deviation, min, Q1 25%, Q2 50%, Q3 75% and max "
   ]
  },
  {
   "cell_type": "code",
   "execution_count": 6,
   "id": "c57e8585-17ad-4a42-b63a-f39c320b42c6",
   "metadata": {},
   "outputs": [
    {
     "data": {
      "text/html": [
       "<div>\n",
       "<style scoped>\n",
       "    .dataframe tbody tr th:only-of-type {\n",
       "        vertical-align: middle;\n",
       "    }\n",
       "\n",
       "    .dataframe tbody tr th {\n",
       "        vertical-align: top;\n",
       "    }\n",
       "\n",
       "    .dataframe thead th {\n",
       "        text-align: right;\n",
       "    }\n",
       "</style>\n",
       "<table border=\"1\" class=\"dataframe\">\n",
       "  <thead>\n",
       "    <tr style=\"text-align: right;\">\n",
       "      <th></th>\n",
       "      <th>VALUE</th>\n",
       "    </tr>\n",
       "  </thead>\n",
       "  <tbody>\n",
       "    <tr>\n",
       "      <th>count</th>\n",
       "      <td>2.030200e+04</td>\n",
       "    </tr>\n",
       "    <tr>\n",
       "      <th>mean</th>\n",
       "      <td>2.313803e+05</td>\n",
       "    </tr>\n",
       "    <tr>\n",
       "      <th>std</th>\n",
       "      <td>1.186008e+05</td>\n",
       "    </tr>\n",
       "    <tr>\n",
       "      <th>min</th>\n",
       "      <td>2.500000e+04</td>\n",
       "    </tr>\n",
       "    <tr>\n",
       "      <th>25%</th>\n",
       "      <td>1.481902e+05</td>\n",
       "    </tr>\n",
       "    <tr>\n",
       "      <th>50%</th>\n",
       "      <td>2.066660e+05</td>\n",
       "    </tr>\n",
       "    <tr>\n",
       "      <th>75%</th>\n",
       "      <td>2.900000e+05</td>\n",
       "    </tr>\n",
       "    <tr>\n",
       "      <th>max</th>\n",
       "      <td>1.350000e+06</td>\n",
       "    </tr>\n",
       "  </tbody>\n",
       "</table>\n",
       "</div>"
      ],
      "text/plain": [
       "              VALUE\n",
       "count  2.030200e+04\n",
       "mean   2.313803e+05\n",
       "std    1.186008e+05\n",
       "min    2.500000e+04\n",
       "25%    1.481902e+05\n",
       "50%    2.066660e+05\n",
       "75%    2.900000e+05\n",
       "max    1.350000e+06"
      ]
     },
     "execution_count": 6,
     "metadata": {},
     "output_type": "execute_result"
    }
   ],
   "source": [
    "df.describe()"
   ]
  },
  {
   "cell_type": "markdown",
   "id": "90a0c7b1-2ccb-4aa2-9e1a-456417b04b28",
   "metadata": {},
   "source": [
    "Left a commented code below if wanted to see a good Profile Report about the data set itself with an overview, alert and reproduction of it, containing information about EDA, if there are or not missing cells, duplicated rows, variable types, Mean, Max, Min, Negative and Zero values, memory size and so on, graphics of the distribution, the command “pip install ydata-profiling” is required to use this."
   ]
  },
  {
   "cell_type": "code",
   "execution_count": 7,
   "id": "2d048824-9127-48d4-b582-bceaf132af95",
   "metadata": {},
   "outputs": [],
   "source": [
    "# pip install ydata-profiling"
   ]
  },
  {
   "cell_type": "code",
   "execution_count": 8,
   "id": "4a615585-9a6f-4b8a-897b-c6c907f2a2cd",
   "metadata": {},
   "outputs": [],
   "source": [
    "# from ydata_profiling import ProfileReport\n",
    "\n",
    "# ProfileReport(df)"
   ]
  },
  {
   "cell_type": "markdown",
   "id": "77e926c1-9907-446f-a63b-33d2dd82941d",
   "metadata": {},
   "source": [
    "### 1.4 Checking types of data"
   ]
  },
  {
   "cell_type": "markdown",
   "id": "16b984d7-5750-4b27-af78-1cb53ce3968e",
   "metadata": {},
   "source": [
    "Using \"`df.dtypes`\" it is possible to get information on each feature and check their respective data types if are correct, make sense or not, comparing with the \"`.head()`\" command and the dictionary of the data."
   ]
  },
  {
   "cell_type": "code",
   "execution_count": 9,
   "id": "4bcae4b9-8277-433f-a39f-2a6467663488",
   "metadata": {},
   "outputs": [
    {
     "data": {
      "text/plain": [
       "Statistic Label      object\n",
       "Month                object\n",
       "Dwelling Status      object\n",
       "Eircode Output       object\n",
       "Stamp Duty Event     object\n",
       "Type of Buyer        object\n",
       "UNIT                 object\n",
       "VALUE               float64\n",
       "dtype: object"
      ]
     },
     "execution_count": 9,
     "metadata": {},
     "output_type": "execute_result"
    }
   ],
   "source": [
    "df.dtypes"
   ]
  },
  {
   "cell_type": "markdown",
   "id": "d04a35a7-04eb-4e3b-9529-34bc01bd77f3",
   "metadata": {},
   "source": [
    "After using \"`.unique()`\" for shows the unique content in the specific feature, and allow us to check if there are any divergence of the values."
   ]
  },
  {
   "cell_type": "code",
   "execution_count": 10,
   "id": "be5ba9c7-6476-4ee8-99b5-69f94d62f4a1",
   "metadata": {},
   "outputs": [
    {
     "data": {
      "text/plain": [
       "array(['Household Buyer - First-Time Buyer Owner-Occupier'], dtype=object)"
      ]
     },
     "execution_count": 10,
     "metadata": {},
     "output_type": "execute_result"
    }
   ],
   "source": [
    "df['Type of Buyer'].unique()"
   ]
  },
  {
   "cell_type": "markdown",
   "id": "4d2aee08-2d5c-4b87-b8c1-459ae14dd241",
   "metadata": {},
   "source": [
    "## 2. Data Preparation"
   ]
  },
  {
   "cell_type": "markdown",
   "id": "92ddf440-5330-44f9-bf3a-d6c5e1f2f4e5",
   "metadata": {},
   "source": [
    "### 2.1 Finding Unique Values"
   ]
  },
  {
   "cell_type": "markdown",
   "id": "225ac815-cb91-4219-8eee-89051d04f946",
   "metadata": {},
   "source": [
    "Checking the name of the features using the command \"`.columns`\""
   ]
  },
  {
   "cell_type": "code",
   "execution_count": 11,
   "id": "08c8044d-2ea4-4767-aa86-bfcc26c877fb",
   "metadata": {},
   "outputs": [
    {
     "data": {
      "text/plain": [
       "Index(['Statistic Label', 'Month', 'Dwelling Status', 'Eircode Output',\n",
       "       'Stamp Duty Event', 'Type of Buyer', 'UNIT', 'VALUE'],\n",
       "      dtype='object')"
      ]
     },
     "execution_count": 11,
     "metadata": {},
     "output_type": "execute_result"
    }
   ],
   "source": [
    "df.columns"
   ]
  },
  {
   "cell_type": "markdown",
   "id": "2794f3fa-3493-49de-86f3-5de643f8637d",
   "metadata": {},
   "source": [
    "Used the method \"`.value_counts()`\" to \"Return a Series containing the frequency of each distinct row in the Dataframe.\" (The Pandas Development Team, 2024b), it was helpful to use in classification features to understand better what it was going on."
   ]
  },
  {
   "cell_type": "code",
   "execution_count": 12,
   "id": "a08e78a9-c4d0-4c8b-8c7e-e583ca0ca15b",
   "metadata": {},
   "outputs": [
    {
     "data": {
      "text/plain": [
       "UNIT\n",
       "Euro    23491\n",
       "Name: count, dtype: int64"
      ]
     },
     "execution_count": 12,
     "metadata": {},
     "output_type": "execute_result"
    }
   ],
   "source": [
    "df[\"UNIT\"].value_counts()"
   ]
  },
  {
   "cell_type": "markdown",
   "id": "cb4d7e9c-f8ee-404f-a3d6-0ec3b2ff3bb6",
   "metadata": {},
   "source": [
    "Next using the command “`.isnull().sum()`” to get the amount of any missing values existent. In this case the features: In this case just the feature: `VALUE`"
   ]
  },
  {
   "cell_type": "code",
   "execution_count": 13,
   "id": "28025cf1-d0c3-40bc-b50c-3104a08df521",
   "metadata": {},
   "outputs": [
    {
     "data": {
      "text/plain": [
       "Statistic Label        0\n",
       "Month                  0\n",
       "Dwelling Status        0\n",
       "Eircode Output         0\n",
       "Stamp Duty Event       0\n",
       "Type of Buyer          0\n",
       "UNIT                   0\n",
       "VALUE               3189\n",
       "dtype: int64"
      ]
     },
     "execution_count": 13,
     "metadata": {},
     "output_type": "execute_result"
    }
   ],
   "source": [
    "df.isnull().sum()"
   ]
  },
  {
   "cell_type": "markdown",
   "id": "58a2e6ad-6c5f-4ac3-98ad-83d25f605647",
   "metadata": {},
   "source": [
    "Next getting the percentage of missing values using the method Mean. In this case, Values are missing approximately 14% of 100% values."
   ]
  },
  {
   "cell_type": "code",
   "execution_count": 14,
   "id": "e90f7ce8-7dd2-4400-be22-3faf7eb7427d",
   "metadata": {},
   "outputs": [
    {
     "data": {
      "text/plain": [
       "Statistic Label      0.000000\n",
       "Month                0.000000\n",
       "Dwelling Status      0.000000\n",
       "Eircode Output       0.000000\n",
       "Stamp Duty Event     0.000000\n",
       "Type of Buyer        0.000000\n",
       "UNIT                 0.000000\n",
       "VALUE               13.575412\n",
       "dtype: float64"
      ]
     },
     "execution_count": 14,
     "metadata": {},
     "output_type": "execute_result"
    }
   ],
   "source": [
    "df.isnull().mean() * 100"
   ]
  },
  {
   "cell_type": "markdown",
   "id": "6eaf0d19-c8e2-440d-a415-2171a1093018",
   "metadata": {},
   "source": [
    "Below it was used in a matrix graphic imported from missingno library that shows us the features missing values"
   ]
  },
  {
   "cell_type": "code",
   "execution_count": 15,
   "id": "cb178448-f7ba-4889-ace5-0cd38b9a65ec",
   "metadata": {},
   "outputs": [],
   "source": [
    "# pip install missingno"
   ]
  },
  {
   "cell_type": "code",
   "execution_count": 16,
   "id": "beb83e1b-718c-41d7-a272-198ac682e9a0",
   "metadata": {},
   "outputs": [
    {
     "data": {
      "image/png": "[encoded data removed]",
      "text/plain": [
       "<Figure size 2500x1000 with 3 Axes>"
      ]
     },
     "metadata": {},
     "output_type": "display_data"
    }
   ],
   "source": [
    "import missingno as msno\n",
    "ax = msno.bar(df.sample(23491))"
   ]
  },
  {
   "cell_type": "markdown",
   "id": "65f9930e-47dd-4782-8cd4-d694999e4f30",
   "metadata": {},
   "source": [
    "### 2.2 Replacing Values (Syntax errors)"
   ]
  },
  {
   "cell_type": "markdown",
   "id": "3836530c-dedb-4c19-8690-44ce0e2fdf15",
   "metadata": {},
   "source": [
    "Checking the data frame using \"`.head()`\""
   ]
  },
  {
   "cell_type": "code",
   "execution_count": 17,
   "id": "74ac7130-0223-4872-b823-f4263c400698",
   "metadata": {},
   "outputs": [
    {
     "data": {
      "text/html": [
       "<div>\n",
       "<style scoped>\n",
       "    .dataframe tbody tr th:only-of-type {\n",
       "        vertical-align: middle;\n",
       "    }\n",
       "\n",
       "    .dataframe tbody tr th {\n",
       "        vertical-align: top;\n",
       "    }\n",
       "\n",
       "    .dataframe thead th {\n",
       "        text-align: right;\n",
       "    }\n",
       "</style>\n",
       "<table border=\"1\" class=\"dataframe\">\n",
       "  <thead>\n",
       "    <tr style=\"text-align: right;\">\n",
       "      <th></th>\n",
       "      <th>Statistic Label</th>\n",
       "      <th>Month</th>\n",
       "      <th>Dwelling Status</th>\n",
       "      <th>Eircode Output</th>\n",
       "      <th>Stamp Duty Event</th>\n",
       "      <th>Type of Buyer</th>\n",
       "      <th>UNIT</th>\n",
       "      <th>VALUE</th>\n",
       "    </tr>\n",
       "  </thead>\n",
       "  <tbody>\n",
       "    <tr>\n",
       "      <th>0</th>\n",
       "      <td>Mean Sale Price</td>\n",
       "      <td>2010 January</td>\n",
       "      <td>All Dwelling Statuses</td>\n",
       "      <td>A41: Ballyboughal</td>\n",
       "      <td>Executions</td>\n",
       "      <td>Household Buyer - First-Time Buyer Owner-Occupier</td>\n",
       "      <td>Euro</td>\n",
       "      <td>NaN</td>\n",
       "    </tr>\n",
       "    <tr>\n",
       "      <th>1</th>\n",
       "      <td>Mean Sale Price</td>\n",
       "      <td>2010 January</td>\n",
       "      <td>All Dwelling Statuses</td>\n",
       "      <td>A42: Garristown</td>\n",
       "      <td>Executions</td>\n",
       "      <td>Household Buyer - First-Time Buyer Owner-Occupier</td>\n",
       "      <td>Euro</td>\n",
       "      <td>NaN</td>\n",
       "    </tr>\n",
       "    <tr>\n",
       "      <th>2</th>\n",
       "      <td>Mean Sale Price</td>\n",
       "      <td>2010 January</td>\n",
       "      <td>All Dwelling Statuses</td>\n",
       "      <td>A45: Oldtown</td>\n",
       "      <td>Executions</td>\n",
       "      <td>Household Buyer - First-Time Buyer Owner-Occupier</td>\n",
       "      <td>Euro</td>\n",
       "      <td>NaN</td>\n",
       "    </tr>\n",
       "    <tr>\n",
       "      <th>3</th>\n",
       "      <td>Mean Sale Price</td>\n",
       "      <td>2010 January</td>\n",
       "      <td>All Dwelling Statuses</td>\n",
       "      <td>A63: Greystones</td>\n",
       "      <td>Executions</td>\n",
       "      <td>Household Buyer - First-Time Buyer Owner-Occupier</td>\n",
       "      <td>Euro</td>\n",
       "      <td>322422.0</td>\n",
       "    </tr>\n",
       "    <tr>\n",
       "      <th>4</th>\n",
       "      <td>Mean Sale Price</td>\n",
       "      <td>2010 January</td>\n",
       "      <td>All Dwelling Statuses</td>\n",
       "      <td>A67: Wicklow</td>\n",
       "      <td>Executions</td>\n",
       "      <td>Household Buyer - First-Time Buyer Owner-Occupier</td>\n",
       "      <td>Euro</td>\n",
       "      <td>343425.0</td>\n",
       "    </tr>\n",
       "  </tbody>\n",
       "</table>\n",
       "</div>"
      ],
      "text/plain": [
       "   Statistic Label         Month        Dwelling Status     Eircode Output  \\\n",
       "0  Mean Sale Price  2010 January  All Dwelling Statuses  A41: Ballyboughal   \n",
       "1  Mean Sale Price  2010 January  All Dwelling Statuses    A42: Garristown   \n",
       "2  Mean Sale Price  2010 January  All Dwelling Statuses       A45: Oldtown   \n",
       "3  Mean Sale Price  2010 January  All Dwelling Statuses    A63: Greystones   \n",
       "4  Mean Sale Price  2010 January  All Dwelling Statuses       A67: Wicklow   \n",
       "\n",
       "  Stamp Duty Event                                      Type of Buyer  UNIT  \\\n",
       "0       Executions  Household Buyer - First-Time Buyer Owner-Occupier  Euro   \n",
       "1       Executions  Household Buyer - First-Time Buyer Owner-Occupier  Euro   \n",
       "2       Executions  Household Buyer - First-Time Buyer Owner-Occupier  Euro   \n",
       "3       Executions  Household Buyer - First-Time Buyer Owner-Occupier  Euro   \n",
       "4       Executions  Household Buyer - First-Time Buyer Owner-Occupier  Euro   \n",
       "\n",
       "      VALUE  \n",
       "0       NaN  \n",
       "1       NaN  \n",
       "2       NaN  \n",
       "3  322422.0  \n",
       "4  343425.0  "
      ]
     },
     "execution_count": 17,
     "metadata": {},
     "output_type": "execute_result"
    }
   ],
   "source": [
    "df.head()"
   ]
  },
  {
   "cell_type": "markdown",
   "id": "cb1854a1-a3a9-4493-bb5c-477b6785457b",
   "metadata": {},
   "source": [
    "Until now, it has not found any syntax error or divergence between the features, if needed will be dealt with.\n",
    "\n",
    "The feature `Eircode Output` will be `split` into two parts when the algorithm finds the symbol `:` turn one feature the Acronym of the place and the second one County's name. Learned how to \"Split strings around given separator/delimiter.\" (The Pandas Development Team, 2024c). "
   ]
  },
  {
   "cell_type": "markdown",
   "id": "8ca29b86-7d79-48d7-9b6a-b8afcc215310",
   "metadata": {},
   "source": [
    "Using the split of strings to divide into two columns the values in `Eircode Output` feature and saved in the news features whose names are \"`Acronym`\" and \"`County`\"."
   ]
  },
  {
   "cell_type": "code",
   "execution_count": 18,
   "id": "aa07b72c-5003-403e-9283-e22f956eb076",
   "metadata": {},
   "outputs": [],
   "source": [
    "df[[\"Acronym\", \"County\"]] = df['Eircode Output'].str.rsplit(\":\", n = 1, expand = True)"
   ]
  },
  {
   "cell_type": "code",
   "execution_count": 19,
   "id": "b660dbc9-c9e9-4826-a5d6-c8f442d29ddc",
   "metadata": {},
   "outputs": [
    {
     "data": {
      "text/html": [
       "<div>\n",
       "<style scoped>\n",
       "    .dataframe tbody tr th:only-of-type {\n",
       "        vertical-align: middle;\n",
       "    }\n",
       "\n",
       "    .dataframe tbody tr th {\n",
       "        vertical-align: top;\n",
       "    }\n",
       "\n",
       "    .dataframe thead th {\n",
       "        text-align: right;\n",
       "    }\n",
       "</style>\n",
       "<table border=\"1\" class=\"dataframe\">\n",
       "  <thead>\n",
       "    <tr style=\"text-align: right;\">\n",
       "      <th></th>\n",
       "      <th>Statistic Label</th>\n",
       "      <th>Month</th>\n",
       "      <th>Dwelling Status</th>\n",
       "      <th>Eircode Output</th>\n",
       "      <th>Stamp Duty Event</th>\n",
       "      <th>Type of Buyer</th>\n",
       "      <th>UNIT</th>\n",
       "      <th>VALUE</th>\n",
       "      <th>Acronym</th>\n",
       "      <th>County</th>\n",
       "    </tr>\n",
       "  </thead>\n",
       "  <tbody>\n",
       "    <tr>\n",
       "      <th>0</th>\n",
       "      <td>Mean Sale Price</td>\n",
       "      <td>2010 January</td>\n",
       "      <td>All Dwelling Statuses</td>\n",
       "      <td>A41: Ballyboughal</td>\n",
       "      <td>Executions</td>\n",
       "      <td>Household Buyer - First-Time Buyer Owner-Occupier</td>\n",
       "      <td>Euro</td>\n",
       "      <td>NaN</td>\n",
       "      <td>A41</td>\n",
       "      <td>Ballyboughal</td>\n",
       "    </tr>\n",
       "    <tr>\n",
       "      <th>1</th>\n",
       "      <td>Mean Sale Price</td>\n",
       "      <td>2010 January</td>\n",
       "      <td>All Dwelling Statuses</td>\n",
       "      <td>A42: Garristown</td>\n",
       "      <td>Executions</td>\n",
       "      <td>Household Buyer - First-Time Buyer Owner-Occupier</td>\n",
       "      <td>Euro</td>\n",
       "      <td>NaN</td>\n",
       "      <td>A42</td>\n",
       "      <td>Garristown</td>\n",
       "    </tr>\n",
       "  </tbody>\n",
       "</table>\n",
       "</div>"
      ],
      "text/plain": [
       "   Statistic Label         Month        Dwelling Status     Eircode Output  \\\n",
       "0  Mean Sale Price  2010 January  All Dwelling Statuses  A41: Ballyboughal   \n",
       "1  Mean Sale Price  2010 January  All Dwelling Statuses    A42: Garristown   \n",
       "\n",
       "  Stamp Duty Event                                      Type of Buyer  UNIT  \\\n",
       "0       Executions  Household Buyer - First-Time Buyer Owner-Occupier  Euro   \n",
       "1       Executions  Household Buyer - First-Time Buyer Owner-Occupier  Euro   \n",
       "\n",
       "   VALUE Acronym         County  \n",
       "0    NaN     A41   Ballyboughal  \n",
       "1    NaN     A42     Garristown  "
      ]
     },
     "execution_count": 19,
     "metadata": {},
     "output_type": "execute_result"
    }
   ],
   "source": [
    "df.head(2)"
   ]
  },
  {
   "cell_type": "markdown",
   "id": "f1f98973-02ce-4ee9-b60e-42254c4d523e",
   "metadata": {},
   "source": [
    "### 2.3 Dropping Irrelevant Columns"
   ]
  },
  {
   "cell_type": "markdown",
   "id": "e74fed69-8064-43e0-b61c-a343c678bdcb",
   "metadata": {},
   "source": [
    "After analyses opted to delete the features: 'Statistic Label', 'Dwelling Status', 'Stamp Duty Event', 'Type of Buyer' and 'UNIT'."
   ]
  },
  {
   "cell_type": "code",
   "execution_count": 20,
   "id": "e64a2461-d2f1-4f49-a1d3-5cf231c51aab",
   "metadata": {},
   "outputs": [
    {
     "data": {
      "text/plain": [
       "Index(['Statistic Label', 'Month', 'Dwelling Status', 'Eircode Output',\n",
       "       'Stamp Duty Event', 'Type of Buyer', 'UNIT', 'VALUE', 'Acronym',\n",
       "       'County'],\n",
       "      dtype='object')"
      ]
     },
     "execution_count": 20,
     "metadata": {},
     "output_type": "execute_result"
    }
   ],
   "source": [
    "df.columns"
   ]
  },
  {
   "cell_type": "code",
   "execution_count": 21,
   "id": "c7cdee39-d83e-4a38-8ce1-1399d61bd519",
   "metadata": {},
   "outputs": [],
   "source": [
    "df = df.drop(columns = ['Statistic Label', 'Dwelling Status', 'Stamp Duty Event', 'Type of Buyer', 'UNIT'])"
   ]
  },
  {
   "cell_type": "code",
   "execution_count": 22,
   "id": "829b7540-d7d1-4ae3-b462-6073c39223c0",
   "metadata": {},
   "outputs": [
    {
     "data": {
      "text/html": [
       "<div>\n",
       "<style scoped>\n",
       "    .dataframe tbody tr th:only-of-type {\n",
       "        vertical-align: middle;\n",
       "    }\n",
       "\n",
       "    .dataframe tbody tr th {\n",
       "        vertical-align: top;\n",
       "    }\n",
       "\n",
       "    .dataframe thead th {\n",
       "        text-align: right;\n",
       "    }\n",
       "</style>\n",
       "<table border=\"1\" class=\"dataframe\">\n",
       "  <thead>\n",
       "    <tr style=\"text-align: right;\">\n",
       "      <th></th>\n",
       "      <th>Month</th>\n",
       "      <th>Eircode Output</th>\n",
       "      <th>VALUE</th>\n",
       "      <th>Acronym</th>\n",
       "      <th>County</th>\n",
       "    </tr>\n",
       "  </thead>\n",
       "  <tbody>\n",
       "    <tr>\n",
       "      <th>0</th>\n",
       "      <td>2010 January</td>\n",
       "      <td>A41: Ballyboughal</td>\n",
       "      <td>NaN</td>\n",
       "      <td>A41</td>\n",
       "      <td>Ballyboughal</td>\n",
       "    </tr>\n",
       "    <tr>\n",
       "      <th>1</th>\n",
       "      <td>2010 January</td>\n",
       "      <td>A42: Garristown</td>\n",
       "      <td>NaN</td>\n",
       "      <td>A42</td>\n",
       "      <td>Garristown</td>\n",
       "    </tr>\n",
       "  </tbody>\n",
       "</table>\n",
       "</div>"
      ],
      "text/plain": [
       "          Month     Eircode Output  VALUE Acronym         County\n",
       "0  2010 January  A41: Ballyboughal    NaN     A41   Ballyboughal\n",
       "1  2010 January    A42: Garristown    NaN     A42     Garristown"
      ]
     },
     "execution_count": 22,
     "metadata": {},
     "output_type": "execute_result"
    }
   ],
   "source": [
    "df.head(2)"
   ]
  },
  {
   "cell_type": "markdown",
   "id": "361661a6-6921-4450-b874-4906fd7d9e3c",
   "metadata": {},
   "source": [
    "### 2.4 Renaming Columns"
   ]
  },
  {
   "cell_type": "markdown",
   "id": "fc2c1069-0257-4ff4-ac21-5fca97b64df8",
   "metadata": {},
   "source": [
    "Renaming the features: Eircode Output to Eircode and VALUE to Value"
   ]
  },
  {
   "cell_type": "code",
   "execution_count": 23,
   "id": "67c52148-7122-4f00-9bf0-4f4c2f250f35",
   "metadata": {},
   "outputs": [
    {
     "data": {
      "text/plain": [
       "Index(['Month', 'Eircode Output', 'VALUE', 'Acronym', 'County'], dtype='object')"
      ]
     },
     "execution_count": 23,
     "metadata": {},
     "output_type": "execute_result"
    }
   ],
   "source": [
    "df.columns"
   ]
  },
  {
   "cell_type": "code",
   "execution_count": 24,
   "id": "688ab7ed-d077-4701-b0dd-5fbdbf7a8799",
   "metadata": {},
   "outputs": [],
   "source": [
    "df = df.rename(columns= {'Eircode Output': 'Eircode', 'VALUE': 'Value'})"
   ]
  },
  {
   "cell_type": "code",
   "execution_count": 25,
   "id": "aaf88327-e3d9-4739-a355-3664cc52e242",
   "metadata": {},
   "outputs": [
    {
     "data": {
      "text/html": [
       "<div>\n",
       "<style scoped>\n",
       "    .dataframe tbody tr th:only-of-type {\n",
       "        vertical-align: middle;\n",
       "    }\n",
       "\n",
       "    .dataframe tbody tr th {\n",
       "        vertical-align: top;\n",
       "    }\n",
       "\n",
       "    .dataframe thead th {\n",
       "        text-align: right;\n",
       "    }\n",
       "</style>\n",
       "<table border=\"1\" class=\"dataframe\">\n",
       "  <thead>\n",
       "    <tr style=\"text-align: right;\">\n",
       "      <th></th>\n",
       "      <th>Month</th>\n",
       "      <th>Eircode</th>\n",
       "      <th>Value</th>\n",
       "      <th>Acronym</th>\n",
       "      <th>County</th>\n",
       "    </tr>\n",
       "  </thead>\n",
       "  <tbody>\n",
       "    <tr>\n",
       "      <th>0</th>\n",
       "      <td>2010 January</td>\n",
       "      <td>A41: Ballyboughal</td>\n",
       "      <td>NaN</td>\n",
       "      <td>A41</td>\n",
       "      <td>Ballyboughal</td>\n",
       "    </tr>\n",
       "    <tr>\n",
       "      <th>1</th>\n",
       "      <td>2010 January</td>\n",
       "      <td>A42: Garristown</td>\n",
       "      <td>NaN</td>\n",
       "      <td>A42</td>\n",
       "      <td>Garristown</td>\n",
       "    </tr>\n",
       "  </tbody>\n",
       "</table>\n",
       "</div>"
      ],
      "text/plain": [
       "          Month            Eircode  Value Acronym         County\n",
       "0  2010 January  A41: Ballyboughal    NaN     A41   Ballyboughal\n",
       "1  2010 January    A42: Garristown    NaN     A42     Garristown"
      ]
     },
     "execution_count": 25,
     "metadata": {},
     "output_type": "execute_result"
    }
   ],
   "source": [
    "df.head(2)"
   ]
  },
  {
   "cell_type": "markdown",
   "id": "1f5b62e2-6b59-44e6-930b-66973eb7c2a5",
   "metadata": {},
   "source": [
    "### 2.5 Handling Missing Values"
   ]
  },
  {
   "cell_type": "markdown",
   "id": "e4593024-cac8-423d-8065-ae77af2ea26a",
   "metadata": {},
   "source": [
    "Creating a variable whose name is \"`missing_value_formats`\" to save some different characters and input in the dataset to patronize all of them as NaN to be easy to handle next.  "
   ]
  },
  {
   "cell_type": "code",
   "execution_count": 26,
   "id": "78a7cdaa-4326-4707-8f9e-6bfae64903dd",
   "metadata": {},
   "outputs": [],
   "source": [
    "missing_value_formats = [\"n.a.\", \"?\", \"NA\", \"n/a\", \"na\", \"--\", \"-\", \"?\", \"UnKnown\", \"Unknown\", \"Na\", \"Nan\"]\n",
    "df.replace(missing_value_formats, np.nan, inplace = True)"
   ]
  },
  {
   "cell_type": "markdown",
   "id": "18ad1928-a16a-4794-b63d-d35c6470266f",
   "metadata": {},
   "source": [
    "Using the function `.isna()` from `pandas.DataFrame.isna` to \"Return a boolean same-sized object indicating if the values are NA.\" (The Pandas Development Team, 2024a) and next using shape in `.isna()` and `df`"
   ]
  },
  {
   "cell_type": "code",
   "execution_count": 27,
   "id": "b07255cc-0633-4b3b-a832-7c972592f5ce",
   "metadata": {},
   "outputs": [
    {
     "data": {
      "text/html": [
       "<div>\n",
       "<style scoped>\n",
       "    .dataframe tbody tr th:only-of-type {\n",
       "        vertical-align: middle;\n",
       "    }\n",
       "\n",
       "    .dataframe tbody tr th {\n",
       "        vertical-align: top;\n",
       "    }\n",
       "\n",
       "    .dataframe thead th {\n",
       "        text-align: right;\n",
       "    }\n",
       "</style>\n",
       "<table border=\"1\" class=\"dataframe\">\n",
       "  <thead>\n",
       "    <tr style=\"text-align: right;\">\n",
       "      <th></th>\n",
       "      <th>Month</th>\n",
       "      <th>Eircode</th>\n",
       "      <th>Value</th>\n",
       "      <th>Acronym</th>\n",
       "      <th>County</th>\n",
       "    </tr>\n",
       "  </thead>\n",
       "  <tbody>\n",
       "    <tr>\n",
       "      <th>0</th>\n",
       "      <td>2010 January</td>\n",
       "      <td>A41: Ballyboughal</td>\n",
       "      <td>NaN</td>\n",
       "      <td>A41</td>\n",
       "      <td>Ballyboughal</td>\n",
       "    </tr>\n",
       "    <tr>\n",
       "      <th>1</th>\n",
       "      <td>2010 January</td>\n",
       "      <td>A42: Garristown</td>\n",
       "      <td>NaN</td>\n",
       "      <td>A42</td>\n",
       "      <td>Garristown</td>\n",
       "    </tr>\n",
       "    <tr>\n",
       "      <th>2</th>\n",
       "      <td>2010 January</td>\n",
       "      <td>A45: Oldtown</td>\n",
       "      <td>NaN</td>\n",
       "      <td>A45</td>\n",
       "      <td>Oldtown</td>\n",
       "    </tr>\n",
       "    <tr>\n",
       "      <th>10</th>\n",
       "      <td>2010 January</td>\n",
       "      <td>A85: Dunshaughlin</td>\n",
       "      <td>NaN</td>\n",
       "      <td>A85</td>\n",
       "      <td>Dunshaughlin</td>\n",
       "    </tr>\n",
       "    <tr>\n",
       "      <th>27</th>\n",
       "      <td>2010 January</td>\n",
       "      <td>D10: Dublin 10</td>\n",
       "      <td>NaN</td>\n",
       "      <td>D10</td>\n",
       "      <td>Dublin 10</td>\n",
       "    </tr>\n",
       "    <tr>\n",
       "      <th>...</th>\n",
       "      <td>...</td>\n",
       "      <td>...</td>\n",
       "      <td>...</td>\n",
       "      <td>...</td>\n",
       "      <td>...</td>\n",
       "    </tr>\n",
       "    <tr>\n",
       "      <th>23451</th>\n",
       "      <td>2024 January</td>\n",
       "      <td>P75: Bantry</td>\n",
       "      <td>NaN</td>\n",
       "      <td>P75</td>\n",
       "      <td>Bantry</td>\n",
       "    </tr>\n",
       "    <tr>\n",
       "      <th>23455</th>\n",
       "      <td>2024 January</td>\n",
       "      <td>R21: Mhuine Bheag</td>\n",
       "      <td>NaN</td>\n",
       "      <td>R21</td>\n",
       "      <td>Mhuine Bheag</td>\n",
       "    </tr>\n",
       "    <tr>\n",
       "      <th>23471</th>\n",
       "      <td>2024 January</td>\n",
       "      <td>V23: Caherciveen</td>\n",
       "      <td>NaN</td>\n",
       "      <td>V23</td>\n",
       "      <td>Caherciveen</td>\n",
       "    </tr>\n",
       "    <tr>\n",
       "      <th>23484</th>\n",
       "      <td>2024 January</td>\n",
       "      <td>X42: Kilmacthomas</td>\n",
       "      <td>NaN</td>\n",
       "      <td>X42</td>\n",
       "      <td>Kilmacthomas</td>\n",
       "    </tr>\n",
       "    <tr>\n",
       "      <th>23489</th>\n",
       "      <td>2024 January</td>\n",
       "      <td>Y34: New Ross</td>\n",
       "      <td>NaN</td>\n",
       "      <td>Y34</td>\n",
       "      <td>New Ross</td>\n",
       "    </tr>\n",
       "  </tbody>\n",
       "</table>\n",
       "<p>3189 rows × 5 columns</p>\n",
       "</div>"
      ],
      "text/plain": [
       "              Month            Eircode  Value Acronym         County\n",
       "0      2010 January  A41: Ballyboughal    NaN     A41   Ballyboughal\n",
       "1      2010 January    A42: Garristown    NaN     A42     Garristown\n",
       "2      2010 January       A45: Oldtown    NaN     A45        Oldtown\n",
       "10     2010 January  A85: Dunshaughlin    NaN     A85   Dunshaughlin\n",
       "27     2010 January     D10: Dublin 10    NaN     D10      Dublin 10\n",
       "...             ...                ...    ...     ...            ...\n",
       "23451  2024 January        P75: Bantry    NaN     P75         Bantry\n",
       "23455  2024 January  R21: Mhuine Bheag    NaN     R21   Mhuine Bheag\n",
       "23471  2024 January   V23: Caherciveen    NaN     V23    Caherciveen\n",
       "23484  2024 January  X42: Kilmacthomas    NaN     X42   Kilmacthomas\n",
       "23489  2024 January      Y34: New Ross    NaN     Y34       New Ross\n",
       "\n",
       "[3189 rows x 5 columns]"
      ]
     },
     "execution_count": 27,
     "metadata": {},
     "output_type": "execute_result"
    }
   ],
   "source": [
    "df[df['Value'].isna()]"
   ]
  },
  {
   "cell_type": "code",
   "execution_count": 28,
   "id": "0dfe4482-9559-4831-b55e-e6f2375ffb0d",
   "metadata": {},
   "outputs": [
    {
     "data": {
      "text/plain": [
       "((3189, 5), (23491, 5))"
      ]
     },
     "execution_count": 28,
     "metadata": {},
     "output_type": "execute_result"
    }
   ],
   "source": [
    "df[df['Value'].isna()].shape, df.shape"
   ]
  },
  {
   "cell_type": "markdown",
   "id": "dc791800-c1c3-4eed-83fe-5d52b6acc340",
   "metadata": {},
   "source": [
    "There are 3189 observations missing values from the total 23491 with 13.57% of 100% "
   ]
  },
  {
   "cell_type": "code",
   "execution_count": 29,
   "id": "2c6b029f-3c1e-40c8-9900-edf843446e0a",
   "metadata": {},
   "outputs": [
    {
     "name": "stdout",
     "output_type": "stream",
     "text": [
      "Percentage of Missing Values in Value Feature: 13.575411859861223\n"
     ]
    }
   ],
   "source": [
    "print(\"Percentage of Missing Values in Value Feature: {}\".format((3189/23491) * 100))"
   ]
  },
  {
   "cell_type": "markdown",
   "id": "a17c9a6b-368d-407c-8b6f-f1f47ad6763c",
   "metadata": {},
   "source": [
    "### 2.6 Imputing Missing Values"
   ]
  },
  {
   "cell_type": "markdown",
   "id": "52147653-af5e-4bc9-bb0e-c3af98385383",
   "metadata": {},
   "source": [
    "It could have opted to use the code \"`df = df.dropna(axis = 0)`\" to drop all observations with missing values once there is not as much lost percentage, but in this case, it will use an approach such as getting the mean values, or median values, filling by the top or down and so on to imputing those missing values."
   ]
  },
  {
   "cell_type": "markdown",
   "id": "854e5862-c84c-48bf-b9f6-d656f53d4bb3",
   "metadata": {},
   "source": [
    "#### 2.6.1 Creating a Hypothesis from a New Column"
   ]
  },
  {
   "cell_type": "markdown",
   "id": "0b796988-bfb1-4f71-880c-6e8e2d078013",
   "metadata": {},
   "source": [
    "Before to fill the missing values it will create another feature at the end of the data frame whose name will be `Sold`. \n",
    "\n",
    "Let's assume that there are no values in these observations because the properties were sold and after sold they can no longer present values as they are private data.\n",
    "\n",
    "Opted to do this, once the data frame there are not many features to be analysed and used This new column will be used after in machine learning algorithms."
   ]
  },
  {
   "cell_type": "markdown",
   "id": "fd406807-45c3-44aa-8d12-16e82250dee2",
   "metadata": {},
   "source": [
    "To finally get the results below it was necessary to learn two things: First, how to use if and else conditions with the `.apply()` class, learned how to use after reading \"5 ways to apply an IF condition in Pandas DataFrame\" (Data to Fish, 2024) from datatofish.com website, and second for the condition Pandas documentation, using `pandas.isnull` \"Detect missing values for an array-like object\" (The Pandas Development Team, 2024c)."
   ]
  },
  {
   "cell_type": "code",
   "execution_count": 30,
   "id": "5a4d97d5-67e5-429c-a94b-0601f63aa4e6",
   "metadata": {},
   "outputs": [],
   "source": [
    "df['Sold'] = df['Value'].apply(lambda x: 1 if pd.isna(x) else 0)"
   ]
  },
  {
   "cell_type": "code",
   "execution_count": 31,
   "id": "07cb6b95-d9ab-4b7d-9ce8-3b53a15e4da2",
   "metadata": {},
   "outputs": [
    {
     "data": {
      "text/html": [
       "<div>\n",
       "<style scoped>\n",
       "    .dataframe tbody tr th:only-of-type {\n",
       "        vertical-align: middle;\n",
       "    }\n",
       "\n",
       "    .dataframe tbody tr th {\n",
       "        vertical-align: top;\n",
       "    }\n",
       "\n",
       "    .dataframe thead th {\n",
       "        text-align: right;\n",
       "    }\n",
       "</style>\n",
       "<table border=\"1\" class=\"dataframe\">\n",
       "  <thead>\n",
       "    <tr style=\"text-align: right;\">\n",
       "      <th></th>\n",
       "      <th>Month</th>\n",
       "      <th>Eircode</th>\n",
       "      <th>Value</th>\n",
       "      <th>Acronym</th>\n",
       "      <th>County</th>\n",
       "      <th>Sold</th>\n",
       "    </tr>\n",
       "  </thead>\n",
       "  <tbody>\n",
       "    <tr>\n",
       "      <th>0</th>\n",
       "      <td>2010 January</td>\n",
       "      <td>A41: Ballyboughal</td>\n",
       "      <td>NaN</td>\n",
       "      <td>A41</td>\n",
       "      <td>Ballyboughal</td>\n",
       "      <td>1</td>\n",
       "    </tr>\n",
       "    <tr>\n",
       "      <th>1</th>\n",
       "      <td>2010 January</td>\n",
       "      <td>A42: Garristown</td>\n",
       "      <td>NaN</td>\n",
       "      <td>A42</td>\n",
       "      <td>Garristown</td>\n",
       "      <td>1</td>\n",
       "    </tr>\n",
       "    <tr>\n",
       "      <th>2</th>\n",
       "      <td>2010 January</td>\n",
       "      <td>A45: Oldtown</td>\n",
       "      <td>NaN</td>\n",
       "      <td>A45</td>\n",
       "      <td>Oldtown</td>\n",
       "      <td>1</td>\n",
       "    </tr>\n",
       "    <tr>\n",
       "      <th>3</th>\n",
       "      <td>2010 January</td>\n",
       "      <td>A63: Greystones</td>\n",
       "      <td>322422.0</td>\n",
       "      <td>A63</td>\n",
       "      <td>Greystones</td>\n",
       "      <td>0</td>\n",
       "    </tr>\n",
       "    <tr>\n",
       "      <th>4</th>\n",
       "      <td>2010 January</td>\n",
       "      <td>A67: Wicklow</td>\n",
       "      <td>343425.0</td>\n",
       "      <td>A67</td>\n",
       "      <td>Wicklow</td>\n",
       "      <td>0</td>\n",
       "    </tr>\n",
       "  </tbody>\n",
       "</table>\n",
       "</div>"
      ],
      "text/plain": [
       "          Month            Eircode     Value Acronym         County  Sold\n",
       "0  2010 January  A41: Ballyboughal       NaN     A41   Ballyboughal     1\n",
       "1  2010 January    A42: Garristown       NaN     A42     Garristown     1\n",
       "2  2010 January       A45: Oldtown       NaN     A45        Oldtown     1\n",
       "3  2010 January    A63: Greystones  322422.0     A63     Greystones     0\n",
       "4  2010 January       A67: Wicklow  343425.0     A67        Wicklow     0"
      ]
     },
     "execution_count": 31,
     "metadata": {},
     "output_type": "execute_result"
    }
   ],
   "source": [
    "df.head()"
   ]
  },
  {
   "cell_type": "markdown",
   "id": "b0a262fd-c805-4b0d-86b8-5ec69ffd6b52",
   "metadata": {},
   "source": [
    "#### 2.6.2 Handling Missing Values"
   ]
  },
  {
   "cell_type": "markdown",
   "id": "7a7b5b34-c40b-45b7-83a5-49466444c200",
   "metadata": {},
   "source": [
    "Next, in this case: `Value` feature will use the method “`.median()`” to fill in the NaN(s) value missing.\n",
    "\n",
    "Opted to use the Median approach, once it is a better representation of the majority of the values in the variable."
   ]
  },
  {
   "cell_type": "code",
   "execution_count": 35,
   "id": "6f1f8cc2-37d7-4271-8e7d-9837c4e653bf",
   "metadata": {},
   "outputs": [],
   "source": [
    "df['Value'] = df['Value'].fillna(int(df['Value'].median()))"
   ]
  },
  {
   "cell_type": "code",
   "execution_count": 36,
   "id": "59ec01ae-7131-4d2b-abb3-c726b453af28",
   "metadata": {},
   "outputs": [
    {
     "data": {
      "text/html": [
       "<div>\n",
       "<style scoped>\n",
       "    .dataframe tbody tr th:only-of-type {\n",
       "        vertical-align: middle;\n",
       "    }\n",
       "\n",
       "    .dataframe tbody tr th {\n",
       "        vertical-align: top;\n",
       "    }\n",
       "\n",
       "    .dataframe thead th {\n",
       "        text-align: right;\n",
       "    }\n",
       "</style>\n",
       "<table border=\"1\" class=\"dataframe\">\n",
       "  <thead>\n",
       "    <tr style=\"text-align: right;\">\n",
       "      <th></th>\n",
       "      <th>Month</th>\n",
       "      <th>Eircode</th>\n",
       "      <th>Value</th>\n",
       "      <th>Acronym</th>\n",
       "      <th>County</th>\n",
       "      <th>Sold</th>\n",
       "    </tr>\n",
       "  </thead>\n",
       "  <tbody>\n",
       "    <tr>\n",
       "      <th>0</th>\n",
       "      <td>2010 January</td>\n",
       "      <td>A41: Ballyboughal</td>\n",
       "      <td>231380.0</td>\n",
       "      <td>A41</td>\n",
       "      <td>Ballyboughal</td>\n",
       "      <td>1</td>\n",
       "    </tr>\n",
       "    <tr>\n",
       "      <th>1</th>\n",
       "      <td>2010 January</td>\n",
       "      <td>A42: Garristown</td>\n",
       "      <td>231380.0</td>\n",
       "      <td>A42</td>\n",
       "      <td>Garristown</td>\n",
       "      <td>1</td>\n",
       "    </tr>\n",
       "    <tr>\n",
       "      <th>2</th>\n",
       "      <td>2010 January</td>\n",
       "      <td>A45: Oldtown</td>\n",
       "      <td>231380.0</td>\n",
       "      <td>A45</td>\n",
       "      <td>Oldtown</td>\n",
       "      <td>1</td>\n",
       "    </tr>\n",
       "    <tr>\n",
       "      <th>3</th>\n",
       "      <td>2010 January</td>\n",
       "      <td>A63: Greystones</td>\n",
       "      <td>322422.0</td>\n",
       "      <td>A63</td>\n",
       "      <td>Greystones</td>\n",
       "      <td>0</td>\n",
       "    </tr>\n",
       "    <tr>\n",
       "      <th>4</th>\n",
       "      <td>2010 January</td>\n",
       "      <td>A67: Wicklow</td>\n",
       "      <td>343425.0</td>\n",
       "      <td>A67</td>\n",
       "      <td>Wicklow</td>\n",
       "      <td>0</td>\n",
       "    </tr>\n",
       "  </tbody>\n",
       "</table>\n",
       "</div>"
      ],
      "text/plain": [
       "          Month            Eircode     Value Acronym         County  Sold\n",
       "0  2010 January  A41: Ballyboughal  231380.0     A41   Ballyboughal     1\n",
       "1  2010 January    A42: Garristown  231380.0     A42     Garristown     1\n",
       "2  2010 January       A45: Oldtown  231380.0     A45        Oldtown     1\n",
       "3  2010 January    A63: Greystones  322422.0     A63     Greystones     0\n",
       "4  2010 January       A67: Wicklow  343425.0     A67        Wicklow     0"
      ]
     },
     "execution_count": 36,
     "metadata": {},
     "output_type": "execute_result"
    }
   ],
   "source": [
    "df.head()"
   ]
  },
  {
   "cell_type": "markdown",
   "id": "adf375a4-afc5-4320-8fd6-847243696246",
   "metadata": {},
   "source": [
    "Checked once again if worked with a graphic and the command “`.isnull().sum()`”."
   ]
  },
  {
   "cell_type": "code",
   "execution_count": 37,
   "id": "12a514c7-0dae-4b2a-a66b-d3cbd52459d4",
   "metadata": {},
   "outputs": [
    {
     "data": {
      "image/png": "[encoded data removed]",
      "text/plain": [
       "<Figure size 2500x1000 with 2 Axes>"
      ]
     },
     "metadata": {},
     "output_type": "display_data"
    }
   ],
   "source": [
    "ax = msno.matrix(df.sample(23491))"
   ]
  },
  {
   "cell_type": "code",
   "execution_count": 38,
   "id": "22d3ae6e-5928-4a9c-bd86-0a29b7316d53",
   "metadata": {},
   "outputs": [
    {
     "data": {
      "text/plain": [
       "Month      0\n",
       "Eircode    0\n",
       "Value      0\n",
       "Acronym    0\n",
       "County     0\n",
       "Sold       0\n",
       "dtype: int64"
      ]
     },
     "execution_count": 38,
     "metadata": {},
     "output_type": "execute_result"
    }
   ],
   "source": [
    "df.isnull().sum()"
   ]
  },
  {
   "cell_type": "code",
   "execution_count": 39,
   "id": "38038a99-1378-47a4-b9e4-6a385bd170b6",
   "metadata": {},
   "outputs": [
    {
     "data": {
      "text/html": [
       "<div>\n",
       "<style scoped>\n",
       "    .dataframe tbody tr th:only-of-type {\n",
       "        vertical-align: middle;\n",
       "    }\n",
       "\n",
       "    .dataframe tbody tr th {\n",
       "        vertical-align: top;\n",
       "    }\n",
       "\n",
       "    .dataframe thead th {\n",
       "        text-align: right;\n",
       "    }\n",
       "</style>\n",
       "<table border=\"1\" class=\"dataframe\">\n",
       "  <thead>\n",
       "    <tr style=\"text-align: right;\">\n",
       "      <th></th>\n",
       "      <th>Month</th>\n",
       "      <th>Eircode</th>\n",
       "      <th>Value</th>\n",
       "      <th>Acronym</th>\n",
       "      <th>County</th>\n",
       "      <th>Sold</th>\n",
       "    </tr>\n",
       "  </thead>\n",
       "  <tbody>\n",
       "  </tbody>\n",
       "</table>\n",
       "</div>"
      ],
      "text/plain": [
       "Empty DataFrame\n",
       "Columns: [Month, Eircode, Value, Acronym, County, Sold]\n",
       "Index: []"
      ]
     },
     "execution_count": 39,
     "metadata": {},
     "output_type": "execute_result"
    }
   ],
   "source": [
    "df[df['Value'].isnull()].head()"
   ]
  },
  {
   "cell_type": "markdown",
   "id": "08898a82-74d0-487e-8fe6-c646f0aad477",
   "metadata": {},
   "source": [
    "### 2.7 Handling Duplicate Rows"
   ]
  },
  {
   "cell_type": "markdown",
   "id": "65272365-a706-4108-bb02-b2d0ab6546c5",
   "metadata": {},
   "source": [
    "Checked if there exist duplicate observations, in this case, there are none to be handled."
   ]
  },
  {
   "cell_type": "code",
   "execution_count": 41,
   "id": "5e2bb39e-bc73-45f5-a0d6-45285dcbf1d7",
   "metadata": {},
   "outputs": [
    {
     "data": {
      "text/plain": [
       "(0, 6)"
      ]
     },
     "execution_count": 41,
     "metadata": {},
     "output_type": "execute_result"
    }
   ],
   "source": [
    "df[df.duplicated()].shape"
   ]
  },
  {
   "cell_type": "code",
   "execution_count": 42,
   "id": "84b6d8d9-7e6c-40ae-b6ee-e23734fc217f",
   "metadata": {},
   "outputs": [
    {
     "data": {
      "text/plain": [
       "Month      23491\n",
       "Eircode    23491\n",
       "Value      23491\n",
       "Acronym    23491\n",
       "County     23491\n",
       "Sold       23491\n",
       "dtype: int64"
      ]
     },
     "execution_count": 42,
     "metadata": {},
     "output_type": "execute_result"
    }
   ],
   "source": [
    "df.count()"
   ]
  },
  {
   "cell_type": "markdown",
   "id": "d776909e-cd3b-4346-85c1-7ba2c2881f1c",
   "metadata": {},
   "source": [
    "### 2.8 Type Conversion"
   ]
  },
  {
   "cell_type": "markdown",
   "id": "ed878522-4306-4222-a58a-1637269d197a",
   "metadata": {},
   "source": [
    "Checking with `dtypes` all features to check the data types also seeing with `.head()`, and there are no features to be converted, but in case it is needed it will use the command “.astype()” to fix it."
   ]
  },
  {
   "cell_type": "code",
   "execution_count": 45,
   "id": "c48643c7-b952-415a-8170-d664efcb8c6e",
   "metadata": {},
   "outputs": [
    {
     "data": {
      "text/plain": [
       "Month       object\n",
       "Eircode     object\n",
       "Value      float64\n",
       "Acronym     object\n",
       "County      object\n",
       "Sold         int64\n",
       "dtype: object"
      ]
     },
     "execution_count": 45,
     "metadata": {},
     "output_type": "execute_result"
    }
   ],
   "source": [
    "df.dtypes"
   ]
  },
  {
   "cell_type": "code",
   "execution_count": 46,
   "id": "2cef88ba-300c-4d94-99b0-de3888b5b9b3",
   "metadata": {},
   "outputs": [
    {
     "data": {
      "text/html": [
       "<div>\n",
       "<style scoped>\n",
       "    .dataframe tbody tr th:only-of-type {\n",
       "        vertical-align: middle;\n",
       "    }\n",
       "\n",
       "    .dataframe tbody tr th {\n",
       "        vertical-align: top;\n",
       "    }\n",
       "\n",
       "    .dataframe thead th {\n",
       "        text-align: right;\n",
       "    }\n",
       "</style>\n",
       "<table border=\"1\" class=\"dataframe\">\n",
       "  <thead>\n",
       "    <tr style=\"text-align: right;\">\n",
       "      <th></th>\n",
       "      <th>Month</th>\n",
       "      <th>Eircode</th>\n",
       "      <th>Value</th>\n",
       "      <th>Acronym</th>\n",
       "      <th>County</th>\n",
       "      <th>Sold</th>\n",
       "    </tr>\n",
       "  </thead>\n",
       "  <tbody>\n",
       "    <tr>\n",
       "      <th>0</th>\n",
       "      <td>2010 January</td>\n",
       "      <td>A41: Ballyboughal</td>\n",
       "      <td>231380.0</td>\n",
       "      <td>A41</td>\n",
       "      <td>Ballyboughal</td>\n",
       "      <td>1</td>\n",
       "    </tr>\n",
       "    <tr>\n",
       "      <th>1</th>\n",
       "      <td>2010 January</td>\n",
       "      <td>A42: Garristown</td>\n",
       "      <td>231380.0</td>\n",
       "      <td>A42</td>\n",
       "      <td>Garristown</td>\n",
       "      <td>1</td>\n",
       "    </tr>\n",
       "  </tbody>\n",
       "</table>\n",
       "</div>"
      ],
      "text/plain": [
       "          Month            Eircode     Value Acronym         County  Sold\n",
       "0  2010 January  A41: Ballyboughal  231380.0     A41   Ballyboughal     1\n",
       "1  2010 January    A42: Garristown  231380.0     A42     Garristown     1"
      ]
     },
     "execution_count": 46,
     "metadata": {},
     "output_type": "execute_result"
    }
   ],
   "source": [
    "df.head(2)"
   ]
  },
  {
   "cell_type": "markdown",
   "id": "b87b6f67-900b-4448-b5a3-807f8dc09117",
   "metadata": {},
   "source": [
    "### 2.9 Relationships"
   ]
  },
  {
   "cell_type": "code",
   "execution_count": null,
   "id": "b4426d9e-8e65-48a6-bda1-6bfe5a58d367",
   "metadata": {},
   "outputs": [],
   "source": [
    "df.columns"
   ]
  },
  {
   "cell_type": "markdown",
   "id": "485161ab-d243-47a0-bd48-5e4acc3658e9",
   "metadata": {},
   "source": [
    "### 2.10 Statistical Analysis"
   ]
  },
  {
   "cell_type": "code",
   "execution_count": null,
   "id": "0c772811-1157-489d-9377-d82217a24041",
   "metadata": {},
   "outputs": [],
   "source": [
    "df.columns"
   ]
  },
  {
   "cell_type": "code",
   "execution_count": null,
   "id": "332232e2-3702-420a-93e3-de34d4c2b3a4",
   "metadata": {},
   "outputs": [],
   "source": [
    "sns.set_theme(style = \"ticks\")\n",
    "sns.pairplot(df[['Value']])"
   ]
  },
  {
   "cell_type": "code",
   "execution_count": null,
   "id": "4fe6b36e-612e-4b73-894f-b94f1573b20e",
   "metadata": {},
   "outputs": [],
   "source": []
  },
  {
   "cell_type": "code",
   "execution_count": null,
   "id": "e07bcabd-bff8-479e-bb85-022e9170f704",
   "metadata": {},
   "outputs": [],
   "source": [
    "plt.figure(figsize = (8, 5))\n",
    "sns.kdeplot(data = df, x = \"Value\", bw_adjust = .2)"
   ]
  },
  {
   "cell_type": "code",
   "execution_count": null,
   "id": "4b6f1774-0a38-4b88-880e-d011bbe7620f",
   "metadata": {},
   "outputs": [],
   "source": [
    "df.boxplot(figsize = (25, 5))"
   ]
  },
  {
   "cell_type": "code",
   "execution_count": null,
   "id": "d236eb9e-3eae-482c-8636-27d9de711f9f",
   "metadata": {},
   "outputs": [],
   "source": [
    "df.columns"
   ]
  },
  {
   "cell_type": "code",
   "execution_count": null,
   "id": "667a8715-c054-4d44-ad3f-1237e36168e4",
   "metadata": {},
   "outputs": [],
   "source": [
    "df['County'].unique"
   ]
  },
  {
   "cell_type": "code",
   "execution_count": null,
   "id": "aa08d44f-7a40-405c-89af-8d7b1313e15e",
   "metadata": {},
   "outputs": [],
   "source": [
    "df['County'].value_counts()"
   ]
  },
  {
   "cell_type": "code",
   "execution_count": null,
   "id": "4c6e2cc4-46ed-437e-b9d1-617f74089a1d",
   "metadata": {},
   "outputs": [],
   "source": [
    "# df['Acronym'].head() \n",
    "#df[(df['County'] == 'Dublin 01') & (df['Type of Buyer'] == '1')].head(10)\n",
    "\n",
    "# df[df['County'] == \"Wicklow\"].head(10)\n",
    "df[df[\"Acronym\"] == \"D01\"].head()"
   ]
  },
  {
   "cell_type": "code",
   "execution_count": null,
   "id": "83efc188-a8ea-4db5-9713-e9362160df11",
   "metadata": {},
   "outputs": [],
   "source": [
    "# df['Acronym'].value_counts()"
   ]
  },
  {
   "cell_type": "code",
   "execution_count": null,
   "id": "23abd8cb-3215-4fb9-959f-6162d506e949",
   "metadata": {},
   "outputs": [],
   "source": [
    "# labels = df['Acronym'].unique()"
   ]
  },
  {
   "cell_type": "code",
   "execution_count": null,
   "id": "ab867ce3-263d-4f71-8cd7-991d33f36b5c",
   "metadata": {},
   "outputs": [],
   "source": [
    "# valuesAlbumType = df['Acronym'].value_counts()\n",
    "\n",
    "# # labels = ['All Buyer Types', 'Household Buyer - First-Time Buyer Owner-Occupier', 'Household Buyer - Former Owner-Occupier', 'Household Buyer - Non-Occupier']\n",
    "# # explode = [0.1, 0, 0, 0]\n",
    "# # colors = [\"c\", \"r\", \"g\", \"y\"]\n",
    "\n",
    "# plt.pie(valuesAlbumType, labels = labels, shadow = True, autopct='%.0f%%')\n",
    "# plt.show() "
   ]
  },
  {
   "cell_type": "markdown",
   "id": "61e54ced-796d-4984-aa6d-587b90c376fa",
   "metadata": {},
   "source": [
    "### 2.11 OrdinalEncoder"
   ]
  },
  {
   "cell_type": "code",
   "execution_count": null,
   "id": "5195fd2e-dd64-4c8b-b854-90c9cede5b2a",
   "metadata": {},
   "outputs": [],
   "source": [
    "df.head()"
   ]
  },
  {
   "cell_type": "markdown",
   "id": "45c59b34-148c-400e-ac81-5f28bf22bed5",
   "metadata": {},
   "source": [
    "Importing `OrdinalEncoder` from `sklearn` to Encoder Categorical data"
   ]
  },
  {
   "cell_type": "code",
   "execution_count": null,
   "id": "69501266-85a8-49ee-93f6-17072d7ac5ec",
   "metadata": {},
   "outputs": [],
   "source": [
    "from sklearn.preprocessing import OrdinalEncoder"
   ]
  },
  {
   "cell_type": "markdown",
   "id": "025fbf0e-550b-4ff2-a34c-281412e316aa",
   "metadata": {},
   "source": [
    "Created the variable `unit` to save just the specific values that exists in the `UNIT` feature "
   ]
  },
  {
   "cell_type": "code",
   "execution_count": null,
   "id": "4f21e7d4-9b09-40ae-a8fa-30aa2096d129",
   "metadata": {},
   "outputs": [],
   "source": [
    "county = df['County'].unique()\n",
    "county"
   ]
  },
  {
   "cell_type": "code",
   "execution_count": null,
   "id": "b7341ab0-2857-44fc-93c1-2048ee02ed5b",
   "metadata": {},
   "outputs": [],
   "source": [
    "df['County'].value_counts()"
   ]
  },
  {
   "cell_type": "markdown",
   "id": "2a8c7446-bc9d-45d3-88e3-a9cf003804f7",
   "metadata": {},
   "source": [
    "Defined ordinal encoding and giving the specific values"
   ]
  },
  {
   "cell_type": "code",
   "execution_count": null,
   "id": "9fbf7aba-6f2e-4256-9a5c-2a94b64717d3",
   "metadata": {},
   "outputs": [],
   "source": [
    "encoder = OrdinalEncoder(categories = [county])"
   ]
  },
  {
   "cell_type": "markdown",
   "id": "bb160178-71b3-4c91-8abe-442d01b71bee",
   "metadata": {},
   "source": [
    "Transforming and copying the values to the feature `'county'` "
   ]
  },
  {
   "cell_type": "code",
   "execution_count": null,
   "id": "65e010db-ba4a-4d34-ad0f-7fb4ebbad93f",
   "metadata": {},
   "outputs": [],
   "source": [
    "df['Eir_encoder'] = encoder.fit_transform(df[['County']])"
   ]
  },
  {
   "cell_type": "markdown",
   "id": "f055a67a-c8e4-49d4-8291-0475451ae376",
   "metadata": {},
   "source": [
    "Checking with the command \"`.head()`\" what the data set looks like now."
   ]
  },
  {
   "cell_type": "code",
   "execution_count": null,
   "id": "699721e0-751f-458d-b378-b822a9c17017",
   "metadata": {},
   "outputs": [],
   "source": [
    "df.head(2)"
   ]
  },
  {
   "cell_type": "code",
   "execution_count": null,
   "id": "e221e1e1-6718-44d4-936a-ccd2a01f6871",
   "metadata": {},
   "outputs": [],
   "source": [
    "df['Eir_encoder'].value_counts()"
   ]
  },
  {
   "cell_type": "markdown",
   "id": "60c52417-2400-41a7-b235-22cc461822f7",
   "metadata": {},
   "source": [
    "### 2.12 Scaling / Transformation"
   ]
  },
  {
   "cell_type": "code",
   "execution_count": null,
   "id": "b61a588c-1237-4bad-b989-29e4d831bbb1",
   "metadata": {},
   "outputs": [],
   "source": [
    "df.head()"
   ]
  },
  {
   "cell_type": "code",
   "execution_count": null,
   "id": "51b6e496-18f2-458d-96a9-341f94529723",
   "metadata": {},
   "outputs": [],
   "source": [
    "df[\"Value\"].describe().round(2)"
   ]
  },
  {
   "cell_type": "code",
   "execution_count": null,
   "id": "02102191-2784-42d8-ae3a-ae74305dfbc7",
   "metadata": {},
   "outputs": [],
   "source": [
    "plt.figure(figsize = (8, 5))\n",
    "sns.distplot(df['Value'], color='g', bins=100, hist_kws = {'alpha': 0.4});"
   ]
  },
  {
   "cell_type": "code",
   "execution_count": null,
   "id": "c96592f4-c4a8-4984-bd50-f463b1ce2a88",
   "metadata": {},
   "outputs": [],
   "source": [
    "plt.figure(figsize = (8, 5))\n",
    "sns.distplot(df['Eir_encoder'], color='g', bins=100, hist_kws = {'alpha': 0.4});"
   ]
  },
  {
   "cell_type": "code",
   "execution_count": null,
   "id": "b1696eb2-ae24-4f37-ba4a-601bf6cb437e",
   "metadata": {},
   "outputs": [],
   "source": [
    "df.columns"
   ]
  },
  {
   "cell_type": "code",
   "execution_count": null,
   "id": "e9a92dd7-838a-47d3-a8e9-bce2a68169e9",
   "metadata": {},
   "outputs": [],
   "source": [
    "sns.boxplot(x = df['Value'], color=\"y\")\n",
    "plt.show()"
   ]
  },
  {
   "cell_type": "code",
   "execution_count": null,
   "id": "3aa7a6b2-89cb-4846-875b-a15d3a109000",
   "metadata": {},
   "outputs": [],
   "source": [
    "df.boxplot(figsize = (25, 5))"
   ]
  },
  {
   "cell_type": "markdown",
   "id": "7b8004ba-4a4f-40b2-b3b7-0be5ac592dbc",
   "metadata": {},
   "source": [
    "### 2.13 Dealing Outliers"
   ]
  },
  {
   "cell_type": "code",
   "execution_count": null,
   "id": "b53c6602-99dc-4bd1-8adb-8c173f77eb6d",
   "metadata": {},
   "outputs": [],
   "source": [
    "df_outliers = df.copy()"
   ]
  },
  {
   "cell_type": "code",
   "execution_count": null,
   "id": "a60ce9b0-3c1e-4907-854c-717e06f55af9",
   "metadata": {},
   "outputs": [],
   "source": [
    "Q1 = df_outliers.select_dtypes(include = ['number']).quantile(0.25)\n",
    "Q3 = df_outliers.select_dtypes(include = ['number']).quantile(0.75)\n",
    "IQR = Q3 - Q1"
   ]
  },
  {
   "cell_type": "code",
   "execution_count": null,
   "id": "14c726cf-0f44-4ff7-9248-490489b3d909",
   "metadata": {},
   "outputs": [],
   "source": [
    "df_outliers = df_outliers[~((df_outliers.select_dtypes(include = ['number']) < (Q1 - 1.5 * IQR)) | \n",
    "                            (df_outliers.select_dtypes(include = ['number']) > (Q3 + 1.5 * IQR))).any(axis=1)]"
   ]
  },
  {
   "cell_type": "code",
   "execution_count": null,
   "id": "90f55d63-b0e1-4121-81d1-cdd3e31a21fa",
   "metadata": {},
   "outputs": [],
   "source": [
    "df.shape, df_outliers.shape"
   ]
  },
  {
   "cell_type": "code",
   "execution_count": null,
   "id": "60fdcbb0-35dc-46fd-a539-f49a0599b8b0",
   "metadata": {},
   "outputs": [],
   "source": [
    "df_outliers.boxplot(figsize = (25, 5))"
   ]
  },
  {
   "cell_type": "code",
   "execution_count": null,
   "id": "a9f1f515-152c-4de9-bfb1-8921d4e57dfa",
   "metadata": {},
   "outputs": [],
   "source": [
    "df_outliers.head(2)"
   ]
  },
  {
   "cell_type": "code",
   "execution_count": null,
   "id": "6518def1-a682-4273-9a06-029c9fddaf7e",
   "metadata": {},
   "outputs": [],
   "source": [
    "df_numeric = df_outliers.select_dtypes(include = ['number'])\n",
    "\n",
    "plt.figure(figsize = (6, 5))\n",
    "correlation_matrix = df_numeric.corr()\n",
    "\n",
    "sns.heatmap(correlation_matrix, cmap = \"BrBG\", annot = True)\n",
    "correlation_matrix"
   ]
  },
  {
   "cell_type": "code",
   "execution_count": null,
   "id": "f7e82b20-7236-4316-b92f-275ead917e6a",
   "metadata": {},
   "outputs": [],
   "source": []
  },
  {
   "cell_type": "code",
   "execution_count": null,
   "id": "cfdd07db-a9b0-4d42-90d0-749b6b87809c",
   "metadata": {},
   "outputs": [],
   "source": [
    "from sklearn import preprocessing"
   ]
  },
  {
   "cell_type": "code",
   "execution_count": null,
   "id": "e50953a3-8963-4e42-ae9d-e466aa97211e",
   "metadata": {},
   "outputs": [],
   "source": [
    "df_scaled = df_outliers.copy()"
   ]
  },
  {
   "cell_type": "code",
   "execution_count": null,
   "id": "b3fe56df-6a67-4128-9268-ebd9779a88be",
   "metadata": {},
   "outputs": [],
   "source": [
    "df.columns"
   ]
  },
  {
   "cell_type": "code",
   "execution_count": null,
   "id": "8f4ef46f-65b6-4bfa-8183-8d27436853f3",
   "metadata": {},
   "outputs": [],
   "source": [
    "df_scaled[['Value']] = preprocessing.scale(df_outliers[['Value']])"
   ]
  },
  {
   "cell_type": "code",
   "execution_count": null,
   "id": "943ab8f9-f23d-448f-8f11-51651086b665",
   "metadata": {},
   "outputs": [],
   "source": [
    "sns.pairplot(df_scaled, x_vars = ['Value'], y_vars = 'Eir_encoder', size = 5, aspect = 0.7, kind = 'scatter')"
   ]
  },
  {
   "cell_type": "code",
   "execution_count": null,
   "id": "f3be2f9b-d9a9-4752-823f-c40cb64fe2fb",
   "metadata": {},
   "outputs": [],
   "source": [
    "df_scaled.head()"
   ]
  },
  {
   "cell_type": "code",
   "execution_count": null,
   "id": "41e33922-fc5e-426f-bff0-03e2a568b3f2",
   "metadata": {},
   "outputs": [],
   "source": [
    "sns.boxplot(x = df_scaled['Value'], color=\"y\")\n",
    "plt.show()"
   ]
  },
  {
   "cell_type": "code",
   "execution_count": null,
   "id": "5fd29cde-0c9e-4ae4-8d06-782f62125607",
   "metadata": {},
   "outputs": [],
   "source": [
    "sns.boxplot(x = df['Value'], color=\"y\")\n",
    "plt.show()"
   ]
  },
  {
   "cell_type": "markdown",
   "id": "a3f68dd9-03a3-468e-ae84-d1bc1d80cb04",
   "metadata": {},
   "source": [
    "## 3. Machine Learning"
   ]
  },
  {
   "cell_type": "markdown",
   "id": "f639bf6b-28d9-4c4f-9b39-8e70f440162a",
   "metadata": {},
   "source": [
    "### 3.1 Principal Component Analysis (PCA)"
   ]
  },
  {
   "cell_type": "code",
   "execution_count": null,
   "id": "113873ff-87d8-4974-9b16-6557e1310570",
   "metadata": {},
   "outputs": [],
   "source": [
    "df_machine = df_scaled.copy()"
   ]
  },
  {
   "cell_type": "code",
   "execution_count": null,
   "id": "59cb646b-2582-4e91-a5c3-0fcd3d83d3f5",
   "metadata": {},
   "outputs": [],
   "source": [
    "no_label = df_machine.select_dtypes(include = ['number'])"
   ]
  },
  {
   "cell_type": "code",
   "execution_count": null,
   "id": "c0b404f0-6fa4-4a74-9ddf-ab5bfc7f0280",
   "metadata": {},
   "outputs": [],
   "source": [
    "from sklearn.decomposition import PCA\n",
    "pca = PCA().fit(no_label) \n",
    "plt.plot(np.cumsum(pca.explained_variance_ratio_)) \n",
    "plt.xlabel('Number of Components') \n",
    "plt.ylabel('Cumulative Explained Variance'); "
   ]
  },
  {
   "cell_type": "code",
   "execution_count": null,
   "id": "74a6d97a-2412-4225-a284-ae8f07148d03",
   "metadata": {},
   "outputs": [],
   "source": [
    "pca = PCA(n_components = 2)\n",
    "\n",
    "df_pca = pca.fit_transform(df_machine.select_dtypes(include = ['number']))\n",
    "\n",
    "print(\"Original shape: {}\".format(str(df_machine.shape)))\n",
    "print(\"Reduced shape: {}\".format(str(df_pca.shape)))"
   ]
  },
  {
   "cell_type": "code",
   "execution_count": null,
   "id": "0bd806da-81a9-4f64-8d26-4faf53ac0e50",
   "metadata": {},
   "outputs": [],
   "source": [
    "print(\"explained_variance_ratio \", pca.explained_variance_ratio_)\n",
    "print(\" {}\".format(sum(pca.explained_variance_ratio_)))"
   ]
  },
  {
   "cell_type": "code",
   "execution_count": null,
   "id": "03abc84c-f8b9-4aa7-8cf4-1d52476a7e25",
   "metadata": {},
   "outputs": [],
   "source": [
    "# pip install mglearn"
   ]
  },
  {
   "cell_type": "code",
   "execution_count": null,
   "id": "5b8d4d8f-f289-4dcd-9a9c-1d67e11bbe4b",
   "metadata": {},
   "outputs": [],
   "source": [
    "plt.scatter(df_pca[:, 0], df_pca[:, 1])\n",
    "plt.title('')\n",
    "plt.show()"
   ]
  },
  {
   "cell_type": "code",
   "execution_count": null,
   "id": "b9491a04-20d6-4f5b-ba5d-d75f632cfa8d",
   "metadata": {},
   "outputs": [],
   "source": [
    "from sklearn.cluster import KMeans\n",
    "kmeans_seeds = KMeans(n_clusters = 3)\n",
    "kmeans_seeds.fit(df_pca)\n",
    "C = kmeans_seeds.labels_\n",
    "C.shape\n",
    "assign_seeds = C.reshape(-1, 1)\n",
    "# assign_seeds"
   ]
  },
  {
   "cell_type": "code",
   "execution_count": null,
   "id": "ee495158-bf23-4580-bb5e-f027f56e6a04",
   "metadata": {},
   "outputs": [],
   "source": [
    "# To plot the cluster data, consider two columns\n",
    "X1 = df_pca[:, 0]\n",
    "X2 = df_pca[:, 1]\n",
    "\n",
    "# Transform into numpy array\n",
    "X11 = X1[:, ]\n",
    "X22 = X2[:, ]"
   ]
  },
  {
   "cell_type": "code",
   "execution_count": null,
   "id": "59494df3-ac65-4e9e-ae5e-bbdba2cd7379",
   "metadata": {},
   "outputs": [],
   "source": [
    "plt.scatter(X11, X22, c = assign_seeds, cmap = 'tab20b')\n",
    "plt.title('Wheat Seeds - Area vs Length of Kernel')\n",
    "plt.show()"
   ]
  },
  {
   "cell_type": "code",
   "execution_count": null,
   "id": "4405816b-0458-4858-b544-3bceb6fe7586",
   "metadata": {},
   "outputs": [],
   "source": []
  },
  {
   "cell_type": "code",
   "execution_count": null,
   "id": "4a6aa131-63c7-4247-868c-d6038ddb344e",
   "metadata": {},
   "outputs": [],
   "source": []
  },
  {
   "cell_type": "code",
   "execution_count": null,
   "id": "30aeb2d9-b909-4059-8b32-2d00899ef009",
   "metadata": {},
   "outputs": [],
   "source": []
  },
  {
   "cell_type": "code",
   "execution_count": null,
   "id": "bb4a7fad-db30-4fe9-85d7-f4891ee14c7b",
   "metadata": {},
   "outputs": [],
   "source": []
  },
  {
   "cell_type": "markdown",
   "id": "54755250-4929-4b6d-bcd4-e03409cd53c3",
   "metadata": {},
   "source": [
    "### 3.2 Linear Regression"
   ]
  },
  {
   "cell_type": "code",
   "execution_count": null,
   "id": "9401dd79-6401-43ef-a134-0b29c4b6db87",
   "metadata": {},
   "outputs": [],
   "source": [
    "df_machine.columns"
   ]
  },
  {
   "cell_type": "code",
   "execution_count": null,
   "id": "c4bc4c1c-2989-42cb-8fea-444423ceed72",
   "metadata": {},
   "outputs": [],
   "source": [
    "X = df_machine['Eir_encoder']\n",
    "X.head()"
   ]
  },
  {
   "cell_type": "code",
   "execution_count": null,
   "id": "ebe8f23f-76f5-4778-b6fd-17882ae28db8",
   "metadata": {},
   "outputs": [],
   "source": [
    "y = df_machine['Value']\n",
    "y.head()"
   ]
  },
  {
   "cell_type": "code",
   "execution_count": null,
   "id": "0676e5ae-385b-469a-b1bd-bc6d31fbaac1",
   "metadata": {},
   "outputs": [],
   "source": [
    "from sklearn.model_selection import train_test_split \n",
    "X_train, X_test, y_train, y_test = train_test_split(X, y, train_size = 0.7 , random_state = 100)\n",
    "\n",
    "X.shape, y.shape, X_train.shape, X_test.shape, y_train.shape, y_test.shape"
   ]
  },
  {
   "cell_type": "code",
   "execution_count": null,
   "id": "827c5659-4e8b-45d6-a55f-125e865a5148",
   "metadata": {},
   "outputs": [],
   "source": [
    "import numpy as np\n",
    "\n",
    "X_train = X_train.to_numpy()[:, np.newaxis]\n",
    "X_test = X_test.to_numpy()[:, np.newaxis]"
   ]
  },
  {
   "cell_type": "code",
   "execution_count": null,
   "id": "edee9dfc-f64e-4b29-bc72-d4ef9e980ebc",
   "metadata": {},
   "outputs": [],
   "source": [
    "from sklearn.linear_model import LinearRegression\n",
    "\n",
    "lr = LinearRegression()\n",
    "\n",
    "lr.fit(X_train, y_train)"
   ]
  },
  {
   "cell_type": "code",
   "execution_count": null,
   "id": "0fca51a2-4d56-4253-8eee-24a1399efea8",
   "metadata": {},
   "outputs": [],
   "source": [
    "print(lr.intercept_)\n",
    "print(lr.coef_)"
   ]
  },
  {
   "cell_type": "code",
   "execution_count": null,
   "id": "71303f2a-0947-45da-aee3-8a441b1c1054",
   "metadata": {},
   "outputs": [],
   "source": [
    "y_pred = lr.predict(X_test)"
   ]
  },
  {
   "cell_type": "code",
   "execution_count": null,
   "id": "f5386233-4f4d-4795-ac74-d9a44ac313a3",
   "metadata": {},
   "outputs": [],
   "source": [
    "type(y_pred)"
   ]
  },
  {
   "cell_type": "code",
   "execution_count": null,
   "id": "9dd6991e-0415-499e-9062-a9a8ec246b2e",
   "metadata": {},
   "outputs": [],
   "source": [
    "# Actual vs Predicted\n",
    "import matplotlib.pyplot as plt\n",
    "c = [i for i in range(1,5894,1)]         # generating index \n",
    "fig = plt.figure()\n",
    "plt.plot(c,y_test, color=\"blue\", linewidth=2.5, linestyle=\"-\")\n",
    "plt.plot(c,y_pred, color=\"red\",  linewidth=2.5, linestyle=\"-\")\n",
    "fig.suptitle('Actual and Predicted', fontsize=20)              # Plot heading \n",
    "plt.xlabel('Index', fontsize=18)                               # X-label\n",
    "plt.ylabel('Sales', fontsize=16)                       # Y-label"
   ]
  },
  {
   "cell_type": "code",
   "execution_count": null,
   "id": "64fbc861-7da1-4b8a-b738-857033a5ea66",
   "metadata": {},
   "outputs": [],
   "source": [
    "# Error terms\n",
    "c = [i for i in range(1,5894,1)]\n",
    "fig = plt.figure()\n",
    "plt.plot(c,y_test-y_pred, color=\"blue\", linewidth=2.5, linestyle=\"-\")\n",
    "fig.suptitle('Error Terms', fontsize=20)              # Plot heading \n",
    "plt.xlabel('Index', fontsize=18)                      # X-label\n",
    "plt.ylabel('ytest-ypred', fontsize=16)                # Y-label"
   ]
  },
  {
   "cell_type": "code",
   "execution_count": null,
   "id": "c915e61a-5594-461c-8faa-1694bccb7967",
   "metadata": {},
   "outputs": [],
   "source": [
    "from sklearn.metrics import mean_squared_error, r2_score\n",
    "mse = mean_squared_error(y_test, y_pred)"
   ]
  },
  {
   "cell_type": "code",
   "execution_count": null,
   "id": "4f7e345b-8170-4d49-8d28-73b04b15a2be",
   "metadata": {},
   "outputs": [],
   "source": [
    "r_squared = r2_score(y_test, y_pred)"
   ]
  },
  {
   "cell_type": "code",
   "execution_count": null,
   "id": "f9b202a1-4e12-470c-b27d-78e7b38b0f10",
   "metadata": {},
   "outputs": [],
   "source": [
    "print('Mean_Squared_Error :' ,mse)\n",
    "print('r_square_value :',r_squared)"
   ]
  },
  {
   "cell_type": "code",
   "execution_count": null,
   "id": "370da33c-f9e7-43f6-a18d-0976558a4c00",
   "metadata": {},
   "outputs": [],
   "source": [
    "plt.scatter(X_train, y_train)\n",
    "plt.plot(X_test, y_pred, color = 'red')\n",
    "plt.show()"
   ]
  },
  {
   "cell_type": "markdown",
   "id": "92f882d0-2e08-4360-88ab-6ec072f9bfd5",
   "metadata": {},
   "source": []
  },
  {
   "cell_type": "code",
   "execution_count": null,
   "id": "11719b23-c6d0-4e74-9d4c-3e83dbc1a704",
   "metadata": {},
   "outputs": [],
   "source": []
  },
  {
   "cell_type": "markdown",
   "id": "60f6bfb1-d679-49ef-85cb-2c147954b9d7",
   "metadata": {},
   "source": [
    "Learned how to use `.str.contains()` in an example of the www.geeksforgeeks.org website. In this case, it is \"Using the contains() function of strings to filter the rows\" to find just the observations that contains Dunlin in the name. (Sanchhaya Education Private Limited, 2021)."
   ]
  },
  {
   "cell_type": "code",
   "execution_count": null,
   "id": "98bdb6a0-6789-4084-92ec-0aa8ac1ffee6",
   "metadata": {},
   "outputs": [],
   "source": [
    "df[df['County'].str.contains('Dublin')]"
   ]
  },
  {
   "cell_type": "code",
   "execution_count": null,
   "id": "86b754f8-346a-4015-b237-617e8f4fb8df",
   "metadata": {},
   "outputs": [],
   "source": []
  },
  {
   "cell_type": "code",
   "execution_count": null,
   "id": "e5b570c3-0b36-4bbe-bc06-55e0c1bbbeae",
   "metadata": {},
   "outputs": [],
   "source": []
  },
  {
   "cell_type": "code",
   "execution_count": null,
   "id": "5637f05b-b7de-4199-b176-927c4d4cee99",
   "metadata": {},
   "outputs": [],
   "source": []
  },
  {
   "cell_type": "code",
   "execution_count": null,
   "id": "ac2af242-9de9-486d-b8c8-7187771ff134",
   "metadata": {},
   "outputs": [],
   "source": []
  },
  {
   "cell_type": "markdown",
   "id": "81e6ac5f-64cb-4501-85ff-66b65b73da57",
   "metadata": {},
   "source": [
    "---"
   ]
  },
  {
   "cell_type": "markdown",
   "id": "b4964d3f-44c3-4f75-9369-19baf05a5463",
   "metadata": {},
   "source": [
    "## Conclusions\n",
    "\n",
    "Old dataset\n",
    "- Statistic - 1: Volume of Sales, 2: Value of Sales, 3: Mean Sale Price and 4: Median Price\n",
    "- Dwelling Status - 1: All Dwelling Statuses, 2: New and 3: Existing\n",
    "- Stamp Duty Event - 1: Filings and 2: Executions\n",
    "- Type of Buyer - 1: All Buyer Types, 2: Household Buyer - First-Time Buyer Owner-Occupier, 3: Household Buyer - Former Owner-Occupier and 4: Household Buyer - Non-Occupier"
   ]
  },
  {
   "cell_type": "markdown",
   "id": "439ac1d8-40fc-46e1-bcc0-20dc95cb1b9e",
   "metadata": {},
   "source": [
    "---"
   ]
  },
  {
   "cell_type": "markdown",
   "id": "232d5319-7e70-4b3a-84be-5c65415f063f",
   "metadata": {},
   "source": [
    "## Data Dictionary\n",
    "\n",
    "**Statistic_Label**\n",
    "- Mean Sale Price: Mean Sale Price (Euro)\n",
    "\n",
    "**Month**\n",
    "- Rage from 2010 January to 2024 January\n",
    "\n",
    "**Dwelling Status -> Dwelling_Status**\n",
    "- All Dwelling Statuses\n",
    "\n",
    "**Eircode Output -> Eircode**\n",
    "- Eircodes\n",
    "\n",
    "**Stamp Duty Event** \n",
    "- Executions\n",
    "\n",
    "**Type of Buyer -> Type_Buyer** \n",
    "- Household Buyer - First-Time Buyer Owner-Occupier\n",
    "\n",
    "**UNIT**\n",
    "- Euro\n",
    "\n",
    "**VALUE -> Value**\n",
    "Price of the property\n",
    "\n",
    "---\n",
    "**New Columns**\n",
    "- **Acronym** County Acronym\n",
    "- **County** County Name\n",
    "- **Eir_encoder** Eircodes encoded "
   ]
  },
  {
   "cell_type": "markdown",
   "id": "d53e513c-c765-47b3-8640-7b6c138aa95e",
   "metadata": {},
   "source": [
    "---"
   ]
  },
  {
   "cell_type": "markdown",
   "id": "bf312d18-a621-4e36-a257-ede20a728fe9",
   "metadata": {},
   "source": [
    "## References"
   ]
  },
  {
   "cell_type": "markdown",
   "id": "67bf405d-b547-45a4-81d5-12ff9c7a0994",
   "metadata": {},
   "source": [
    "Müller, A.C. and Guido, S. (2017). Introduction to Machine Learning with Python: A guide for Data Scientists. Beijing: O’reilly.\n",
    "\n",
    "The Pandas Development Team (2024a). How do I select a subset of a DataFrame? — pandas 1.2.4 documentation. [online] pandas.pydata.org. Available at: https://pandas.pydata.org/docs/getting_started/intro_tutorials/03_subset_data.html.\n",
    "\n",
    "The Pandas Development Team (2024b). pandas.Series.str.split — pandas 1.3.0 documentation. [online] pandas.pydata.org. Available at: https://pandas.pydata.org/docs/reference/api/pandas.Series.str.split.html."
   ]
  }
 ],
 "metadata": {
  "kernelspec": {
   "display_name": "Python 3 (ipykernel)",
   "language": "python",
   "name": "python3"
  },
  "language_info": {
   "codemirror_mode": {
    "name": "ipython",
    "version": 3
   },
   "file_extension": ".py",
   "mimetype": "text/x-python",
   "name": "python",
   "nbconvert_exporter": "python",
   "pygments_lexer": "ipython3",
   "version": "3.11.7"
  }
 },
 "nbformat": 4,
 "nbformat_minor": 5
}
