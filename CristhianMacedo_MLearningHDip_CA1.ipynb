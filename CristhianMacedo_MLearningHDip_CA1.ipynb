{
 "cells": [
  {
   "cell_type": "markdown",
   "id": "dbb47da6-b192-44df-a466-1e20b32f96eb",
   "metadata": {},
   "source": [
    "### CA1 – Machine Learning HDip\n",
    "#### Author: Cristhian Macedo - 2024104\n",
    "[GitHub Repository](https://github.com/CristhianMacedo2024104/Machine-Learning)"
   ]
  },
  {
   "cell_type": "markdown",
   "id": "624e0c00-bf89-4849-931e-f996b83d13ea",
   "metadata": {},
   "source": [
    "### 1.1 Importing libraries\n",
    "\n",
    "Importing the required libraries \"`pandas`\" to start the project.\n",
    "\n",
    "Also importing \"`numpy`\", \"`seaborn`\", \"`matplotlib.pyplot`\" and \"`sklearn.decomposition`\", in case it needs other libraries it will be imported when necessary it comes."
   ]
  },
  {
   "cell_type": "code",
   "execution_count": 1,
   "id": "fac541d1-b0b8-4a90-820e-2f8e542f4e63",
   "metadata": {},
   "outputs": [],
   "source": [
    "import pandas as pd\n",
    "import numpy as np\n",
    "\n",
    "import seaborn as sns\n",
    "import matplotlib.pyplot as plt\n",
    "from sklearn.decomposition import PCA\n",
    "\n",
    "%matplotlib inline\n",
    "sns.set()"
   ]
  },
  {
   "cell_type": "markdown",
   "id": "822f31f6-a331-453b-b5ee-7a026aeb27b0",
   "metadata": {},
   "source": [
    "### 1.2\tLoading Data from a CSV File\n",
    "\n",
    "Loading the dataset using the function “`.read_csv`” to import the required data existing in the Comma-separated values \"`.csv`\" file in the `df` variable."
   ]
  },
  {
   "cell_type": "code",
   "execution_count": 2,
   "id": "58fea231-f7f2-4758-a93f-e8c0f0135bff",
   "metadata": {},
   "outputs": [],
   "source": [
    "df = pd.read_csv(\"HPM04.20240406T220445.csv\")"
   ]
  },
  {
   "cell_type": "markdown",
   "id": "2e8e6c52-1190-4fc8-8a1a-40167fa1cd4e",
   "metadata": {},
   "source": [
    "### 1.3\tInspecting the Data Set\n",
    "\n",
    "The first command useful to start understanding the data is “`.head()`” to check the first 5 observations as default and features contained in the data frame after loaded. \n",
    "\n",
    "This command was important and necessary to get the first impression of it, returning that this dataset has **5** rows (observations) and **14** columns (features)."
   ]
  },
  {
   "cell_type": "code",
   "execution_count": 3,
   "id": "e0ba4008-61a3-46e8-9877-e33a3555ca17",
   "metadata": {},
   "outputs": [
    {
     "data": {
      "text/html": [
       "<div>\n",
       "<style scoped>\n",
       "    .dataframe tbody tr th:only-of-type {\n",
       "        vertical-align: middle;\n",
       "    }\n",
       "\n",
       "    .dataframe tbody tr th {\n",
       "        vertical-align: top;\n",
       "    }\n",
       "\n",
       "    .dataframe thead th {\n",
       "        text-align: right;\n",
       "    }\n",
       "</style>\n",
       "<table border=\"1\" class=\"dataframe\">\n",
       "  <thead>\n",
       "    <tr style=\"text-align: right;\">\n",
       "      <th></th>\n",
       "      <th>STATISTIC</th>\n",
       "      <th>Statistic Label</th>\n",
       "      <th>TLIST(M1)</th>\n",
       "      <th>Month</th>\n",
       "      <th>C03346V04033</th>\n",
       "      <th>Dwelling Status</th>\n",
       "      <th>C03349V04063</th>\n",
       "      <th>Eircode Output</th>\n",
       "      <th>C03341V04028</th>\n",
       "      <th>Stamp Duty Event</th>\n",
       "      <th>C03344V04031</th>\n",
       "      <th>Type of Buyer</th>\n",
       "      <th>UNIT</th>\n",
       "      <th>VALUE</th>\n",
       "    </tr>\n",
       "  </thead>\n",
       "  <tbody>\n",
       "    <tr>\n",
       "      <th>0</th>\n",
       "      <td>HPM04C01</td>\n",
       "      <td>Volume of Sales</td>\n",
       "      <td>202201</td>\n",
       "      <td>2022 January</td>\n",
       "      <td>-</td>\n",
       "      <td>All Dwelling Statuses</td>\n",
       "      <td>-</td>\n",
       "      <td>All</td>\n",
       "      <td>1</td>\n",
       "      <td>Filings</td>\n",
       "      <td>-</td>\n",
       "      <td>All Buyer Types</td>\n",
       "      <td>Number</td>\n",
       "      <td>3519.0</td>\n",
       "    </tr>\n",
       "    <tr>\n",
       "      <th>1</th>\n",
       "      <td>HPM04C01</td>\n",
       "      <td>Volume of Sales</td>\n",
       "      <td>202201</td>\n",
       "      <td>2022 January</td>\n",
       "      <td>-</td>\n",
       "      <td>All Dwelling Statuses</td>\n",
       "      <td>-</td>\n",
       "      <td>All</td>\n",
       "      <td>1</td>\n",
       "      <td>Filings</td>\n",
       "      <td>02</td>\n",
       "      <td>Household Buyer - First-Time Buyer Owner-Occupier</td>\n",
       "      <td>Number</td>\n",
       "      <td>1181.0</td>\n",
       "    </tr>\n",
       "    <tr>\n",
       "      <th>2</th>\n",
       "      <td>HPM04C01</td>\n",
       "      <td>Volume of Sales</td>\n",
       "      <td>202201</td>\n",
       "      <td>2022 January</td>\n",
       "      <td>-</td>\n",
       "      <td>All Dwelling Statuses</td>\n",
       "      <td>-</td>\n",
       "      <td>All</td>\n",
       "      <td>1</td>\n",
       "      <td>Filings</td>\n",
       "      <td>03</td>\n",
       "      <td>Household Buyer - Former Owner-Occupier</td>\n",
       "      <td>Number</td>\n",
       "      <td>1803.0</td>\n",
       "    </tr>\n",
       "    <tr>\n",
       "      <th>3</th>\n",
       "      <td>HPM04C01</td>\n",
       "      <td>Volume of Sales</td>\n",
       "      <td>202201</td>\n",
       "      <td>2022 January</td>\n",
       "      <td>-</td>\n",
       "      <td>All Dwelling Statuses</td>\n",
       "      <td>-</td>\n",
       "      <td>All</td>\n",
       "      <td>1</td>\n",
       "      <td>Filings</td>\n",
       "      <td>04</td>\n",
       "      <td>Household Buyer - Non-Occupier</td>\n",
       "      <td>Number</td>\n",
       "      <td>535.0</td>\n",
       "    </tr>\n",
       "    <tr>\n",
       "      <th>4</th>\n",
       "      <td>HPM04C01</td>\n",
       "      <td>Volume of Sales</td>\n",
       "      <td>202201</td>\n",
       "      <td>2022 January</td>\n",
       "      <td>-</td>\n",
       "      <td>All Dwelling Statuses</td>\n",
       "      <td>-</td>\n",
       "      <td>All</td>\n",
       "      <td>2</td>\n",
       "      <td>Executions</td>\n",
       "      <td>-</td>\n",
       "      <td>All Buyer Types</td>\n",
       "      <td>Number</td>\n",
       "      <td>2884.0</td>\n",
       "    </tr>\n",
       "  </tbody>\n",
       "</table>\n",
       "</div>"
      ],
      "text/plain": [
       "  STATISTIC  Statistic Label  TLIST(M1)         Month C03346V04033  \\\n",
       "0  HPM04C01  Volume of Sales     202201  2022 January            -   \n",
       "1  HPM04C01  Volume of Sales     202201  2022 January            -   \n",
       "2  HPM04C01  Volume of Sales     202201  2022 January            -   \n",
       "3  HPM04C01  Volume of Sales     202201  2022 January            -   \n",
       "4  HPM04C01  Volume of Sales     202201  2022 January            -   \n",
       "\n",
       "         Dwelling Status C03349V04063 Eircode Output  C03341V04028  \\\n",
       "0  All Dwelling Statuses            -            All             1   \n",
       "1  All Dwelling Statuses            -            All             1   \n",
       "2  All Dwelling Statuses            -            All             1   \n",
       "3  All Dwelling Statuses            -            All             1   \n",
       "4  All Dwelling Statuses            -            All             2   \n",
       "\n",
       "  Stamp Duty Event C03344V04031  \\\n",
       "0          Filings            -   \n",
       "1          Filings           02   \n",
       "2          Filings           03   \n",
       "3          Filings           04   \n",
       "4       Executions            -   \n",
       "\n",
       "                                       Type of Buyer    UNIT   VALUE  \n",
       "0                                    All Buyer Types  Number  3519.0  \n",
       "1  Household Buyer - First-Time Buyer Owner-Occupier  Number  1181.0  \n",
       "2            Household Buyer - Former Owner-Occupier  Number  1803.0  \n",
       "3                     Household Buyer - Non-Occupier  Number   535.0  \n",
       "4                                    All Buyer Types  Number  2884.0  "
      ]
     },
     "execution_count": 3,
     "metadata": {},
     "output_type": "execute_result"
    }
   ],
   "source": [
    "df.head()"
   ]
  },
  {
   "cell_type": "markdown",
   "id": "a72b94b8-8c78-4672-b25e-94a520608ec8",
   "metadata": {},
   "source": [
    "Thereafter using the command “`shape`” shows us the complete body of the data, in this case **336000** observations and **14** features to be analysed."
   ]
  },
  {
   "cell_type": "code",
   "execution_count": 4,
   "id": "5dec6717-5332-43be-aae8-587a8bdc3e4a",
   "metadata": {},
   "outputs": [
    {
     "data": {
      "text/plain": [
       "(336000, 14)"
      ]
     },
     "execution_count": 4,
     "metadata": {},
     "output_type": "execute_result"
    }
   ],
   "source": [
    "df.shape"
   ]
  },
  {
   "cell_type": "markdown",
   "id": "384e18db-96a2-4e66-8acd-cfe094a45fc5",
   "metadata": {},
   "source": [
    "Used “```.info()```” next to print a concise summary of a data frame.\n",
    "\n",
    "Getting this information it was necessary to learn the names of features existing and the difference between the total of observations shown before in the “`shape`” command and their respective data types."
   ]
  },
  {
   "cell_type": "code",
   "execution_count": 5,
   "id": "996b58d0-7352-448e-ada4-e23747b8f149",
   "metadata": {},
   "outputs": [],
   "source": [
    "# df.info()"
   ]
  },
  {
   "cell_type": "markdown",
   "id": "8e25042f-f32c-409d-92f9-0f4e59f977c3",
   "metadata": {},
   "source": [
    "The \"`.describe()`\" function shows us a little more about each feature, we can see statistics information about: count, mean, standard deviation, min, Q1 25%, Q2 50%, Q3 75% and max "
   ]
  },
  {
   "cell_type": "code",
   "execution_count": 6,
   "id": "c57e8585-17ad-4a42-b63a-f39c320b42c6",
   "metadata": {},
   "outputs": [],
   "source": [
    "# df.describe()"
   ]
  },
  {
   "cell_type": "code",
   "execution_count": 7,
   "id": "52bf2271-adee-4aae-b9aa-01cd93d476bc",
   "metadata": {},
   "outputs": [
    {
     "data": {
      "text/plain": [
       "Index(['STATISTIC', 'Statistic Label', 'TLIST(M1)', 'Month', 'C03346V04033',\n",
       "       'Dwelling Status', 'C03349V04063', 'Eircode Output', 'C03341V04028',\n",
       "       'Stamp Duty Event', 'C03344V04031', 'Type of Buyer', 'UNIT', 'VALUE'],\n",
       "      dtype='object')"
      ]
     },
     "execution_count": 7,
     "metadata": {},
     "output_type": "execute_result"
    }
   ],
   "source": [
    "df.columns"
   ]
  },
  {
   "cell_type": "markdown",
   "id": "77e926c1-9907-446f-a63b-33d2dd82941d",
   "metadata": {},
   "source": [
    "### 1.4 Checking the types of data"
   ]
  },
  {
   "cell_type": "code",
   "execution_count": 8,
   "id": "4bcae4b9-8277-433f-a39f-2a6467663488",
   "metadata": {},
   "outputs": [
    {
     "data": {
      "text/plain": [
       "STATISTIC            object\n",
       "Statistic Label      object\n",
       "TLIST(M1)             int64\n",
       "Month                object\n",
       "C03346V04033         object\n",
       "Dwelling Status      object\n",
       "C03349V04063         object\n",
       "Eircode Output       object\n",
       "C03341V04028          int64\n",
       "Stamp Duty Event     object\n",
       "C03344V04031         object\n",
       "Type of Buyer        object\n",
       "UNIT                 object\n",
       "VALUE               float64\n",
       "dtype: object"
      ]
     },
     "execution_count": 8,
     "metadata": {},
     "output_type": "execute_result"
    }
   ],
   "source": [
    "df.dtypes"
   ]
  },
  {
   "cell_type": "code",
   "execution_count": 10,
   "id": "0cbf4e63-3f6b-44ee-b03f-c28d0e850ec8",
   "metadata": {},
   "outputs": [
    {
     "data": {
      "text/plain": [
       "array(['All Buyer Types',\n",
       "       'Household Buyer - First-Time Buyer Owner-Occupier',\n",
       "       'Household Buyer - Former Owner-Occupier',\n",
       "       'Household Buyer - Non-Occupier'], dtype=object)"
      ]
     },
     "execution_count": 10,
     "metadata": {},
     "output_type": "execute_result"
    }
   ],
   "source": [
    "df['Type of Buyer'].unique()"
   ]
  },
  {
   "cell_type": "markdown",
   "id": "4d2aee08-2d5c-4b87-b8c1-459ae14dd241",
   "metadata": {},
   "source": [
    "## 2. Data Preparation"
   ]
  },
  {
   "cell_type": "markdown",
   "id": "92ddf440-5330-44f9-bf3a-d6c5e1f2f4e5",
   "metadata": {},
   "source": [
    "### 2.1 Finding Unique Values"
   ]
  },
  {
   "cell_type": "markdown",
   "id": "9334c839-9fa4-4dcc-852c-32854d8d18f8",
   "metadata": {},
   "source": [
    "- Keeping the columns:  STATISTIC, TLIST(M1), Month, C03346V04033, C03349V04063, Eircode Output, C03341V04028, C03344V04031, UNIT and VALUE"
   ]
  },
  {
   "cell_type": "code",
   "execution_count": 11,
   "id": "08c8044d-2ea4-4767-aa86-bfcc26c877fb",
   "metadata": {},
   "outputs": [
    {
     "data": {
      "text/plain": [
       "Index(['STATISTIC', 'Statistic Label', 'TLIST(M1)', 'Month', 'C03346V04033',\n",
       "       'Dwelling Status', 'C03349V04063', 'Eircode Output', 'C03341V04028',\n",
       "       'Stamp Duty Event', 'C03344V04031', 'Type of Buyer', 'UNIT', 'VALUE'],\n",
       "      dtype='object')"
      ]
     },
     "execution_count": 11,
     "metadata": {},
     "output_type": "execute_result"
    }
   ],
   "source": [
    "df.columns"
   ]
  },
  {
   "cell_type": "code",
   "execution_count": 12,
   "id": "c4099d58-e0e9-4182-b063-ddf6e9faadd6",
   "metadata": {},
   "outputs": [
    {
     "data": {
      "text/plain": [
       "array(['All Buyer Types',\n",
       "       'Household Buyer - First-Time Buyer Owner-Occupier',\n",
       "       'Household Buyer - Former Owner-Occupier',\n",
       "       'Household Buyer - Non-Occupier'], dtype=object)"
      ]
     },
     "execution_count": 12,
     "metadata": {},
     "output_type": "execute_result"
    }
   ],
   "source": [
    "df['Type of Buyer'].unique()"
   ]
  },
  {
   "cell_type": "markdown",
   "id": "cda69cf8-e212-4d6b-85fd-c292c691253e",
   "metadata": {},
   "source": [
    "'Dwelling Status ID', 'Eircode ID', 'Type of Buyer ID' with '-' values "
   ]
  },
  {
   "cell_type": "markdown",
   "id": "65f9930e-47dd-4782-8cd4-d694999e4f30",
   "metadata": {},
   "source": [
    "### 2.2 Replacing Values (Syntax errors)"
   ]
  },
  {
   "cell_type": "markdown",
   "id": "a2234710-90ee-4524-a9b8-6188494a368e",
   "metadata": {},
   "source": [
    "- STATISTIC - 1: Volume of Sales, 2: Value of Sales, 3: Mean Sale Price and 4: Median Price\n",
    "- C03346V04033 - 1: All Dwelling Statuses, 2: New and 3: Existing\n",
    "- C03341V04028 - 1: Filings and 2: Executions\n",
    "- C03344V04031 - 1: All Buyer Types, 2: Household Buyer - First-Time Buyer Owner-Occupier, 3: Household Buyer - Former Owner-Occupier and 4: Household Buyer - Non-Occupier"
   ]
  },
  {
   "cell_type": "code",
   "execution_count": 13,
   "id": "545c7a97-eaf7-426b-a567-3a1f552fa122",
   "metadata": {},
   "outputs": [],
   "source": [
    "df['STATISTIC'] = df['STATISTIC'].replace([\"HPM04C01\", 'HPM04C02', 'HPM04C03', 'HPM04C04'], [1, 2, 3, 4])\n",
    "df['C03346V04033'] = df['C03346V04033'].replace([\"-\", '01', '02'], [1, 2, 3])\n",
    "df['C03349V04063'] = df['C03349V04063'].replace([\"-\"], [\"All\"])\n",
    "df['C03344V04031'] = df['C03344V04031'].replace([\"-\", '02', '03', '04'], [1, 2, 3, 4])"
   ]
  },
  {
   "cell_type": "code",
   "execution_count": 14,
   "id": "f7e098ae-3991-4aaf-b82c-5cb6cbfecf45",
   "metadata": {},
   "outputs": [
    {
     "data": {
      "text/html": [
       "<div>\n",
       "<style scoped>\n",
       "    .dataframe tbody tr th:only-of-type {\n",
       "        vertical-align: middle;\n",
       "    }\n",
       "\n",
       "    .dataframe tbody tr th {\n",
       "        vertical-align: top;\n",
       "    }\n",
       "\n",
       "    .dataframe thead th {\n",
       "        text-align: right;\n",
       "    }\n",
       "</style>\n",
       "<table border=\"1\" class=\"dataframe\">\n",
       "  <thead>\n",
       "    <tr style=\"text-align: right;\">\n",
       "      <th></th>\n",
       "      <th>STATISTIC</th>\n",
       "      <th>Statistic Label</th>\n",
       "      <th>TLIST(M1)</th>\n",
       "      <th>Month</th>\n",
       "      <th>C03346V04033</th>\n",
       "      <th>Dwelling Status</th>\n",
       "      <th>C03349V04063</th>\n",
       "      <th>Eircode Output</th>\n",
       "      <th>C03341V04028</th>\n",
       "      <th>Stamp Duty Event</th>\n",
       "      <th>C03344V04031</th>\n",
       "      <th>Type of Buyer</th>\n",
       "      <th>UNIT</th>\n",
       "      <th>VALUE</th>\n",
       "    </tr>\n",
       "  </thead>\n",
       "  <tbody>\n",
       "    <tr>\n",
       "      <th>0</th>\n",
       "      <td>1</td>\n",
       "      <td>Volume of Sales</td>\n",
       "      <td>202201</td>\n",
       "      <td>2022 January</td>\n",
       "      <td>1</td>\n",
       "      <td>All Dwelling Statuses</td>\n",
       "      <td>All</td>\n",
       "      <td>All</td>\n",
       "      <td>1</td>\n",
       "      <td>Filings</td>\n",
       "      <td>1</td>\n",
       "      <td>All Buyer Types</td>\n",
       "      <td>Number</td>\n",
       "      <td>3519.0</td>\n",
       "    </tr>\n",
       "    <tr>\n",
       "      <th>1</th>\n",
       "      <td>1</td>\n",
       "      <td>Volume of Sales</td>\n",
       "      <td>202201</td>\n",
       "      <td>2022 January</td>\n",
       "      <td>1</td>\n",
       "      <td>All Dwelling Statuses</td>\n",
       "      <td>All</td>\n",
       "      <td>All</td>\n",
       "      <td>1</td>\n",
       "      <td>Filings</td>\n",
       "      <td>2</td>\n",
       "      <td>Household Buyer - First-Time Buyer Owner-Occupier</td>\n",
       "      <td>Number</td>\n",
       "      <td>1181.0</td>\n",
       "    </tr>\n",
       "    <tr>\n",
       "      <th>2</th>\n",
       "      <td>1</td>\n",
       "      <td>Volume of Sales</td>\n",
       "      <td>202201</td>\n",
       "      <td>2022 January</td>\n",
       "      <td>1</td>\n",
       "      <td>All Dwelling Statuses</td>\n",
       "      <td>All</td>\n",
       "      <td>All</td>\n",
       "      <td>1</td>\n",
       "      <td>Filings</td>\n",
       "      <td>3</td>\n",
       "      <td>Household Buyer - Former Owner-Occupier</td>\n",
       "      <td>Number</td>\n",
       "      <td>1803.0</td>\n",
       "    </tr>\n",
       "    <tr>\n",
       "      <th>3</th>\n",
       "      <td>1</td>\n",
       "      <td>Volume of Sales</td>\n",
       "      <td>202201</td>\n",
       "      <td>2022 January</td>\n",
       "      <td>1</td>\n",
       "      <td>All Dwelling Statuses</td>\n",
       "      <td>All</td>\n",
       "      <td>All</td>\n",
       "      <td>1</td>\n",
       "      <td>Filings</td>\n",
       "      <td>4</td>\n",
       "      <td>Household Buyer - Non-Occupier</td>\n",
       "      <td>Number</td>\n",
       "      <td>535.0</td>\n",
       "    </tr>\n",
       "    <tr>\n",
       "      <th>4</th>\n",
       "      <td>1</td>\n",
       "      <td>Volume of Sales</td>\n",
       "      <td>202201</td>\n",
       "      <td>2022 January</td>\n",
       "      <td>1</td>\n",
       "      <td>All Dwelling Statuses</td>\n",
       "      <td>All</td>\n",
       "      <td>All</td>\n",
       "      <td>2</td>\n",
       "      <td>Executions</td>\n",
       "      <td>1</td>\n",
       "      <td>All Buyer Types</td>\n",
       "      <td>Number</td>\n",
       "      <td>2884.0</td>\n",
       "    </tr>\n",
       "  </tbody>\n",
       "</table>\n",
       "</div>"
      ],
      "text/plain": [
       "   STATISTIC  Statistic Label  TLIST(M1)         Month  C03346V04033  \\\n",
       "0          1  Volume of Sales     202201  2022 January             1   \n",
       "1          1  Volume of Sales     202201  2022 January             1   \n",
       "2          1  Volume of Sales     202201  2022 January             1   \n",
       "3          1  Volume of Sales     202201  2022 January             1   \n",
       "4          1  Volume of Sales     202201  2022 January             1   \n",
       "\n",
       "         Dwelling Status C03349V04063 Eircode Output  C03341V04028  \\\n",
       "0  All Dwelling Statuses          All            All             1   \n",
       "1  All Dwelling Statuses          All            All             1   \n",
       "2  All Dwelling Statuses          All            All             1   \n",
       "3  All Dwelling Statuses          All            All             1   \n",
       "4  All Dwelling Statuses          All            All             2   \n",
       "\n",
       "  Stamp Duty Event  C03344V04031  \\\n",
       "0          Filings             1   \n",
       "1          Filings             2   \n",
       "2          Filings             3   \n",
       "3          Filings             4   \n",
       "4       Executions             1   \n",
       "\n",
       "                                       Type of Buyer    UNIT   VALUE  \n",
       "0                                    All Buyer Types  Number  3519.0  \n",
       "1  Household Buyer - First-Time Buyer Owner-Occupier  Number  1181.0  \n",
       "2            Household Buyer - Former Owner-Occupier  Number  1803.0  \n",
       "3                     Household Buyer - Non-Occupier  Number   535.0  \n",
       "4                                    All Buyer Types  Number  2884.0  "
      ]
     },
     "execution_count": 14,
     "metadata": {},
     "output_type": "execute_result"
    }
   ],
   "source": [
    "df.head(5)"
   ]
  },
  {
   "cell_type": "markdown",
   "id": "f1f98973-02ce-4ee9-b60e-42254c4d523e",
   "metadata": {},
   "source": [
    "### 2.3 Dropping Irrelevant Columns"
   ]
  },
  {
   "cell_type": "markdown",
   "id": "98bb933e-19b9-4949-b8fd-ac3bbaa15636",
   "metadata": {},
   "source": [
    "- Dropping:  Statistic Label, Dwelling Status, Stamp Duty Event and Type of Buyer"
   ]
  },
  {
   "cell_type": "code",
   "execution_count": 15,
   "id": "c7cdee39-d83e-4a38-8ce1-1399d61bd519",
   "metadata": {},
   "outputs": [],
   "source": [
    "df = df.drop(columns = ['Statistic Label', 'Dwelling Status', 'Stamp Duty Event', 'Type of Buyer'])"
   ]
  },
  {
   "cell_type": "code",
   "execution_count": 16,
   "id": "829b7540-d7d1-4ae3-b462-6073c39223c0",
   "metadata": {},
   "outputs": [
    {
     "data": {
      "text/html": [
       "<div>\n",
       "<style scoped>\n",
       "    .dataframe tbody tr th:only-of-type {\n",
       "        vertical-align: middle;\n",
       "    }\n",
       "\n",
       "    .dataframe tbody tr th {\n",
       "        vertical-align: top;\n",
       "    }\n",
       "\n",
       "    .dataframe thead th {\n",
       "        text-align: right;\n",
       "    }\n",
       "</style>\n",
       "<table border=\"1\" class=\"dataframe\">\n",
       "  <thead>\n",
       "    <tr style=\"text-align: right;\">\n",
       "      <th></th>\n",
       "      <th>STATISTIC</th>\n",
       "      <th>TLIST(M1)</th>\n",
       "      <th>Month</th>\n",
       "      <th>C03346V04033</th>\n",
       "      <th>C03349V04063</th>\n",
       "      <th>Eircode Output</th>\n",
       "      <th>C03341V04028</th>\n",
       "      <th>C03344V04031</th>\n",
       "      <th>UNIT</th>\n",
       "      <th>VALUE</th>\n",
       "    </tr>\n",
       "  </thead>\n",
       "  <tbody>\n",
       "    <tr>\n",
       "      <th>0</th>\n",
       "      <td>1</td>\n",
       "      <td>202201</td>\n",
       "      <td>2022 January</td>\n",
       "      <td>1</td>\n",
       "      <td>All</td>\n",
       "      <td>All</td>\n",
       "      <td>1</td>\n",
       "      <td>1</td>\n",
       "      <td>Number</td>\n",
       "      <td>3519.0</td>\n",
       "    </tr>\n",
       "    <tr>\n",
       "      <th>1</th>\n",
       "      <td>1</td>\n",
       "      <td>202201</td>\n",
       "      <td>2022 January</td>\n",
       "      <td>1</td>\n",
       "      <td>All</td>\n",
       "      <td>All</td>\n",
       "      <td>1</td>\n",
       "      <td>2</td>\n",
       "      <td>Number</td>\n",
       "      <td>1181.0</td>\n",
       "    </tr>\n",
       "    <tr>\n",
       "      <th>2</th>\n",
       "      <td>1</td>\n",
       "      <td>202201</td>\n",
       "      <td>2022 January</td>\n",
       "      <td>1</td>\n",
       "      <td>All</td>\n",
       "      <td>All</td>\n",
       "      <td>1</td>\n",
       "      <td>3</td>\n",
       "      <td>Number</td>\n",
       "      <td>1803.0</td>\n",
       "    </tr>\n",
       "    <tr>\n",
       "      <th>3</th>\n",
       "      <td>1</td>\n",
       "      <td>202201</td>\n",
       "      <td>2022 January</td>\n",
       "      <td>1</td>\n",
       "      <td>All</td>\n",
       "      <td>All</td>\n",
       "      <td>1</td>\n",
       "      <td>4</td>\n",
       "      <td>Number</td>\n",
       "      <td>535.0</td>\n",
       "    </tr>\n",
       "    <tr>\n",
       "      <th>4</th>\n",
       "      <td>1</td>\n",
       "      <td>202201</td>\n",
       "      <td>2022 January</td>\n",
       "      <td>1</td>\n",
       "      <td>All</td>\n",
       "      <td>All</td>\n",
       "      <td>2</td>\n",
       "      <td>1</td>\n",
       "      <td>Number</td>\n",
       "      <td>2884.0</td>\n",
       "    </tr>\n",
       "  </tbody>\n",
       "</table>\n",
       "</div>"
      ],
      "text/plain": [
       "   STATISTIC  TLIST(M1)         Month  C03346V04033 C03349V04063  \\\n",
       "0          1     202201  2022 January             1          All   \n",
       "1          1     202201  2022 January             1          All   \n",
       "2          1     202201  2022 January             1          All   \n",
       "3          1     202201  2022 January             1          All   \n",
       "4          1     202201  2022 January             1          All   \n",
       "\n",
       "  Eircode Output  C03341V04028  C03344V04031    UNIT   VALUE  \n",
       "0            All             1             1  Number  3519.0  \n",
       "1            All             1             2  Number  1181.0  \n",
       "2            All             1             3  Number  1803.0  \n",
       "3            All             1             4  Number   535.0  \n",
       "4            All             2             1  Number  2884.0  "
      ]
     },
     "execution_count": 16,
     "metadata": {},
     "output_type": "execute_result"
    }
   ],
   "source": [
    "df.head()"
   ]
  },
  {
   "cell_type": "markdown",
   "id": "361661a6-6921-4450-b874-4906fd7d9e3c",
   "metadata": {},
   "source": [
    "### 2.4 Renaming Columns"
   ]
  },
  {
   "cell_type": "markdown",
   "id": "2c300c26-5a76-4b87-95fc-7014f3bcd63f",
   "metadata": {},
   "source": [
    "- Renaming: STATISTIC to Statistic, TLIST(M1) to Year/Month, C03346V04033 to Dwelling Status, C03349V04063 to Eircode, C03341V04028 to Stamp Duty Event, C03344V04031 to Type of Buyer, UNIT to Unit, VALUE to Price"
   ]
  },
  {
   "cell_type": "code",
   "execution_count": 17,
   "id": "688ab7ed-d077-4701-b0dd-5fbdbf7a8799",
   "metadata": {},
   "outputs": [],
   "source": [
    "df = df.rename(columns= {'STATISTIC': 'Statistic', 'TLIST(M1)': 'Year/Month', 'C03346V04033': 'Dwelling Status', 'C03349V04063': 'Eircode', 'C03341V04028': 'Stamp Duty Event', 'C03344V04031': 'Type of Buyer', 'UNIT': 'Unit', 'VALUE': 'Price'})"
   ]
  },
  {
   "cell_type": "code",
   "execution_count": 18,
   "id": "aaf88327-e3d9-4739-a355-3664cc52e242",
   "metadata": {},
   "outputs": [
    {
     "data": {
      "text/html": [
       "<div>\n",
       "<style scoped>\n",
       "    .dataframe tbody tr th:only-of-type {\n",
       "        vertical-align: middle;\n",
       "    }\n",
       "\n",
       "    .dataframe tbody tr th {\n",
       "        vertical-align: top;\n",
       "    }\n",
       "\n",
       "    .dataframe thead th {\n",
       "        text-align: right;\n",
       "    }\n",
       "</style>\n",
       "<table border=\"1\" class=\"dataframe\">\n",
       "  <thead>\n",
       "    <tr style=\"text-align: right;\">\n",
       "      <th></th>\n",
       "      <th>Statistic</th>\n",
       "      <th>Year/Month</th>\n",
       "      <th>Month</th>\n",
       "      <th>Dwelling Status</th>\n",
       "      <th>Eircode</th>\n",
       "      <th>Eircode Output</th>\n",
       "      <th>Stamp Duty Event</th>\n",
       "      <th>Type of Buyer</th>\n",
       "      <th>Unit</th>\n",
       "      <th>Price</th>\n",
       "    </tr>\n",
       "  </thead>\n",
       "  <tbody>\n",
       "    <tr>\n",
       "      <th>0</th>\n",
       "      <td>1</td>\n",
       "      <td>202201</td>\n",
       "      <td>2022 January</td>\n",
       "      <td>1</td>\n",
       "      <td>All</td>\n",
       "      <td>All</td>\n",
       "      <td>1</td>\n",
       "      <td>1</td>\n",
       "      <td>Number</td>\n",
       "      <td>3519.0</td>\n",
       "    </tr>\n",
       "    <tr>\n",
       "      <th>1</th>\n",
       "      <td>1</td>\n",
       "      <td>202201</td>\n",
       "      <td>2022 January</td>\n",
       "      <td>1</td>\n",
       "      <td>All</td>\n",
       "      <td>All</td>\n",
       "      <td>1</td>\n",
       "      <td>2</td>\n",
       "      <td>Number</td>\n",
       "      <td>1181.0</td>\n",
       "    </tr>\n",
       "    <tr>\n",
       "      <th>2</th>\n",
       "      <td>1</td>\n",
       "      <td>202201</td>\n",
       "      <td>2022 January</td>\n",
       "      <td>1</td>\n",
       "      <td>All</td>\n",
       "      <td>All</td>\n",
       "      <td>1</td>\n",
       "      <td>3</td>\n",
       "      <td>Number</td>\n",
       "      <td>1803.0</td>\n",
       "    </tr>\n",
       "    <tr>\n",
       "      <th>3</th>\n",
       "      <td>1</td>\n",
       "      <td>202201</td>\n",
       "      <td>2022 January</td>\n",
       "      <td>1</td>\n",
       "      <td>All</td>\n",
       "      <td>All</td>\n",
       "      <td>1</td>\n",
       "      <td>4</td>\n",
       "      <td>Number</td>\n",
       "      <td>535.0</td>\n",
       "    </tr>\n",
       "    <tr>\n",
       "      <th>4</th>\n",
       "      <td>1</td>\n",
       "      <td>202201</td>\n",
       "      <td>2022 January</td>\n",
       "      <td>1</td>\n",
       "      <td>All</td>\n",
       "      <td>All</td>\n",
       "      <td>2</td>\n",
       "      <td>1</td>\n",
       "      <td>Number</td>\n",
       "      <td>2884.0</td>\n",
       "    </tr>\n",
       "  </tbody>\n",
       "</table>\n",
       "</div>"
      ],
      "text/plain": [
       "   Statistic  Year/Month         Month  Dwelling Status Eircode  \\\n",
       "0          1      202201  2022 January                1     All   \n",
       "1          1      202201  2022 January                1     All   \n",
       "2          1      202201  2022 January                1     All   \n",
       "3          1      202201  2022 January                1     All   \n",
       "4          1      202201  2022 January                1     All   \n",
       "\n",
       "  Eircode Output  Stamp Duty Event  Type of Buyer    Unit   Price  \n",
       "0            All                 1              1  Number  3519.0  \n",
       "1            All                 1              2  Number  1181.0  \n",
       "2            All                 1              3  Number  1803.0  \n",
       "3            All                 1              4  Number   535.0  \n",
       "4            All                 2              1  Number  2884.0  "
      ]
     },
     "execution_count": 18,
     "metadata": {},
     "output_type": "execute_result"
    }
   ],
   "source": [
    "df.head()"
   ]
  },
  {
   "cell_type": "markdown",
   "id": "1f5b62e2-6b59-44e6-930b-66973eb7c2a5",
   "metadata": {},
   "source": [
    "### 2.5 Handling Missing Values"
   ]
  },
  {
   "cell_type": "code",
   "execution_count": 19,
   "id": "22d3ae6e-5928-4a9c-bd86-0a29b7316d53",
   "metadata": {},
   "outputs": [
    {
     "data": {
      "text/plain": [
       "Statistic               0\n",
       "Year/Month              0\n",
       "Month                   0\n",
       "Dwelling Status         0\n",
       "Eircode                 0\n",
       "Eircode Output          0\n",
       "Stamp Duty Event        0\n",
       "Type of Buyer           0\n",
       "Unit                    0\n",
       "Price               40562\n",
       "dtype: int64"
      ]
     },
     "execution_count": 19,
     "metadata": {},
     "output_type": "execute_result"
    }
   ],
   "source": [
    "df.isnull().sum()"
   ]
  },
  {
   "cell_type": "code",
   "execution_count": 20,
   "id": "38038a99-1378-47a4-b9e4-6a385bd170b6",
   "metadata": {},
   "outputs": [
    {
     "data": {
      "text/html": [
       "<div>\n",
       "<style scoped>\n",
       "    .dataframe tbody tr th:only-of-type {\n",
       "        vertical-align: middle;\n",
       "    }\n",
       "\n",
       "    .dataframe tbody tr th {\n",
       "        vertical-align: top;\n",
       "    }\n",
       "\n",
       "    .dataframe thead th {\n",
       "        text-align: right;\n",
       "    }\n",
       "</style>\n",
       "<table border=\"1\" class=\"dataframe\">\n",
       "  <thead>\n",
       "    <tr style=\"text-align: right;\">\n",
       "      <th></th>\n",
       "      <th>Statistic</th>\n",
       "      <th>Year/Month</th>\n",
       "      <th>Month</th>\n",
       "      <th>Dwelling Status</th>\n",
       "      <th>Eircode</th>\n",
       "      <th>Eircode Output</th>\n",
       "      <th>Stamp Duty Event</th>\n",
       "      <th>Type of Buyer</th>\n",
       "      <th>Unit</th>\n",
       "      <th>Price</th>\n",
       "    </tr>\n",
       "  </thead>\n",
       "  <tbody>\n",
       "    <tr>\n",
       "      <th>168008</th>\n",
       "      <td>3</td>\n",
       "      <td>202201</td>\n",
       "      <td>2022 January</td>\n",
       "      <td>1</td>\n",
       "      <td>A41</td>\n",
       "      <td>A41: Ballyboughal</td>\n",
       "      <td>1</td>\n",
       "      <td>1</td>\n",
       "      <td>Euro</td>\n",
       "      <td>NaN</td>\n",
       "    </tr>\n",
       "    <tr>\n",
       "      <th>168009</th>\n",
       "      <td>3</td>\n",
       "      <td>202201</td>\n",
       "      <td>2022 January</td>\n",
       "      <td>1</td>\n",
       "      <td>A41</td>\n",
       "      <td>A41: Ballyboughal</td>\n",
       "      <td>1</td>\n",
       "      <td>2</td>\n",
       "      <td>Euro</td>\n",
       "      <td>NaN</td>\n",
       "    </tr>\n",
       "    <tr>\n",
       "      <th>168010</th>\n",
       "      <td>3</td>\n",
       "      <td>202201</td>\n",
       "      <td>2022 January</td>\n",
       "      <td>1</td>\n",
       "      <td>A41</td>\n",
       "      <td>A41: Ballyboughal</td>\n",
       "      <td>1</td>\n",
       "      <td>3</td>\n",
       "      <td>Euro</td>\n",
       "      <td>NaN</td>\n",
       "    </tr>\n",
       "    <tr>\n",
       "      <th>168011</th>\n",
       "      <td>3</td>\n",
       "      <td>202201</td>\n",
       "      <td>2022 January</td>\n",
       "      <td>1</td>\n",
       "      <td>A41</td>\n",
       "      <td>A41: Ballyboughal</td>\n",
       "      <td>1</td>\n",
       "      <td>4</td>\n",
       "      <td>Euro</td>\n",
       "      <td>NaN</td>\n",
       "    </tr>\n",
       "    <tr>\n",
       "      <th>168013</th>\n",
       "      <td>3</td>\n",
       "      <td>202201</td>\n",
       "      <td>2022 January</td>\n",
       "      <td>1</td>\n",
       "      <td>A41</td>\n",
       "      <td>A41: Ballyboughal</td>\n",
       "      <td>2</td>\n",
       "      <td>2</td>\n",
       "      <td>Euro</td>\n",
       "      <td>NaN</td>\n",
       "    </tr>\n",
       "  </tbody>\n",
       "</table>\n",
       "</div>"
      ],
      "text/plain": [
       "        Statistic  Year/Month         Month  Dwelling Status Eircode  \\\n",
       "168008          3      202201  2022 January                1     A41   \n",
       "168009          3      202201  2022 January                1     A41   \n",
       "168010          3      202201  2022 January                1     A41   \n",
       "168011          3      202201  2022 January                1     A41   \n",
       "168013          3      202201  2022 January                1     A41   \n",
       "\n",
       "           Eircode Output  Stamp Duty Event  Type of Buyer  Unit  Price  \n",
       "168008  A41: Ballyboughal                 1              1  Euro    NaN  \n",
       "168009  A41: Ballyboughal                 1              2  Euro    NaN  \n",
       "168010  A41: Ballyboughal                 1              3  Euro    NaN  \n",
       "168011  A41: Ballyboughal                 1              4  Euro    NaN  \n",
       "168013  A41: Ballyboughal                 2              2  Euro    NaN  "
      ]
     },
     "execution_count": 20,
     "metadata": {},
     "output_type": "execute_result"
    }
   ],
   "source": [
    "df[df['Price'].isnull()].head()"
   ]
  },
  {
   "cell_type": "markdown",
   "id": "a17c9a6b-368d-407c-8b6f-f1f47ad6763c",
   "metadata": {},
   "source": [
    "### 2.6 Imputing Missing Values"
   ]
  },
  {
   "cell_type": "code",
   "execution_count": null,
   "id": "49359ec1-1b6d-4194-8571-6bad4d5c1ca8",
   "metadata": {},
   "outputs": [],
   "source": []
  },
  {
   "cell_type": "markdown",
   "id": "08898a82-74d0-487e-8fe6-c646f0aad477",
   "metadata": {},
   "source": [
    "### 2.7 Handling Duplicates Rows"
   ]
  },
  {
   "cell_type": "code",
   "execution_count": 21,
   "id": "5e2bb39e-bc73-45f5-a0d6-45285dcbf1d7",
   "metadata": {},
   "outputs": [
    {
     "data": {
      "text/plain": [
       "(0, 10)"
      ]
     },
     "execution_count": 21,
     "metadata": {},
     "output_type": "execute_result"
    }
   ],
   "source": [
    "df[df.duplicated()].shape"
   ]
  },
  {
   "cell_type": "code",
   "execution_count": 22,
   "id": "84b6d8d9-7e6c-40ae-b6ee-e23734fc217f",
   "metadata": {},
   "outputs": [
    {
     "data": {
      "text/plain": [
       "Statistic           336000\n",
       "Year/Month          336000\n",
       "Month               336000\n",
       "Dwelling Status     336000\n",
       "Eircode             336000\n",
       "Eircode Output      336000\n",
       "Stamp Duty Event    336000\n",
       "Type of Buyer       336000\n",
       "Unit                336000\n",
       "Price               295438\n",
       "dtype: int64"
      ]
     },
     "execution_count": 22,
     "metadata": {},
     "output_type": "execute_result"
    }
   ],
   "source": [
    "df.count()"
   ]
  },
  {
   "cell_type": "markdown",
   "id": "d776909e-cd3b-4346-85c1-7ba2c2881f1c",
   "metadata": {},
   "source": [
    "### 2.8 Type Conversion"
   ]
  },
  {
   "cell_type": "code",
   "execution_count": 23,
   "id": "c48643c7-b952-415a-8170-d664efcb8c6e",
   "metadata": {},
   "outputs": [
    {
     "data": {
      "text/plain": [
       "Statistic             int64\n",
       "Year/Month            int64\n",
       "Month                object\n",
       "Dwelling Status       int64\n",
       "Eircode              object\n",
       "Eircode Output       object\n",
       "Stamp Duty Event      int64\n",
       "Type of Buyer         int64\n",
       "Unit                 object\n",
       "Price               float64\n",
       "dtype: object"
      ]
     },
     "execution_count": 23,
     "metadata": {},
     "output_type": "execute_result"
    }
   ],
   "source": [
    "df.dtypes"
   ]
  },
  {
   "cell_type": "code",
   "execution_count": 24,
   "id": "2cef88ba-300c-4d94-99b0-de3888b5b9b3",
   "metadata": {},
   "outputs": [
    {
     "data": {
      "text/html": [
       "<div>\n",
       "<style scoped>\n",
       "    .dataframe tbody tr th:only-of-type {\n",
       "        vertical-align: middle;\n",
       "    }\n",
       "\n",
       "    .dataframe tbody tr th {\n",
       "        vertical-align: top;\n",
       "    }\n",
       "\n",
       "    .dataframe thead th {\n",
       "        text-align: right;\n",
       "    }\n",
       "</style>\n",
       "<table border=\"1\" class=\"dataframe\">\n",
       "  <thead>\n",
       "    <tr style=\"text-align: right;\">\n",
       "      <th></th>\n",
       "      <th>Statistic</th>\n",
       "      <th>Year/Month</th>\n",
       "      <th>Month</th>\n",
       "      <th>Dwelling Status</th>\n",
       "      <th>Eircode</th>\n",
       "      <th>Eircode Output</th>\n",
       "      <th>Stamp Duty Event</th>\n",
       "      <th>Type of Buyer</th>\n",
       "      <th>Unit</th>\n",
       "      <th>Price</th>\n",
       "    </tr>\n",
       "  </thead>\n",
       "  <tbody>\n",
       "    <tr>\n",
       "      <th>0</th>\n",
       "      <td>1</td>\n",
       "      <td>202201</td>\n",
       "      <td>2022 January</td>\n",
       "      <td>1</td>\n",
       "      <td>All</td>\n",
       "      <td>All</td>\n",
       "      <td>1</td>\n",
       "      <td>1</td>\n",
       "      <td>Number</td>\n",
       "      <td>3519.0</td>\n",
       "    </tr>\n",
       "    <tr>\n",
       "      <th>1</th>\n",
       "      <td>1</td>\n",
       "      <td>202201</td>\n",
       "      <td>2022 January</td>\n",
       "      <td>1</td>\n",
       "      <td>All</td>\n",
       "      <td>All</td>\n",
       "      <td>1</td>\n",
       "      <td>2</td>\n",
       "      <td>Number</td>\n",
       "      <td>1181.0</td>\n",
       "    </tr>\n",
       "  </tbody>\n",
       "</table>\n",
       "</div>"
      ],
      "text/plain": [
       "   Statistic  Year/Month         Month  Dwelling Status Eircode  \\\n",
       "0          1      202201  2022 January                1     All   \n",
       "1          1      202201  2022 January                1     All   \n",
       "\n",
       "  Eircode Output  Stamp Duty Event  Type of Buyer    Unit   Price  \n",
       "0            All                 1              1  Number  3519.0  \n",
       "1            All                 1              2  Number  1181.0  "
      ]
     },
     "execution_count": 24,
     "metadata": {},
     "output_type": "execute_result"
    }
   ],
   "source": [
    "df.head(2)"
   ]
  },
  {
   "cell_type": "markdown",
   "id": "b87b6f67-900b-4448-b5a3-807f8dc09117",
   "metadata": {},
   "source": [
    "### 2.9 Relationships"
   ]
  },
  {
   "cell_type": "code",
   "execution_count": 25,
   "id": "b4426d9e-8e65-48a6-bda1-6bfe5a58d367",
   "metadata": {},
   "outputs": [],
   "source": [
    "# df.columns"
   ]
  },
  {
   "cell_type": "code",
   "execution_count": 28,
   "id": "3180d8cc-00ec-4e5e-a775-c78b80378d32",
   "metadata": {},
   "outputs": [
    {
     "data": {
      "text/html": [
       "<div>\n",
       "<style scoped>\n",
       "    .dataframe tbody tr th:only-of-type {\n",
       "        vertical-align: middle;\n",
       "    }\n",
       "\n",
       "    .dataframe tbody tr th {\n",
       "        vertical-align: top;\n",
       "    }\n",
       "\n",
       "    .dataframe thead th {\n",
       "        text-align: right;\n",
       "    }\n",
       "</style>\n",
       "<table border=\"1\" class=\"dataframe\">\n",
       "  <thead>\n",
       "    <tr style=\"text-align: right;\">\n",
       "      <th></th>\n",
       "      <th>Statistic</th>\n",
       "      <th>Year/Month</th>\n",
       "      <th>Dwelling Status</th>\n",
       "      <th>Stamp Duty Event</th>\n",
       "      <th>Type of Buyer</th>\n",
       "      <th>Price</th>\n",
       "    </tr>\n",
       "  </thead>\n",
       "  <tbody>\n",
       "    <tr>\n",
       "      <th>Statistic</th>\n",
       "      <td>1.000000e+00</td>\n",
       "      <td>-8.597654e-12</td>\n",
       "      <td>1.543649e-14</td>\n",
       "      <td>-2.572692e-14</td>\n",
       "      <td>-1.168811e-14</td>\n",
       "      <td>0.713562</td>\n",
       "    </tr>\n",
       "    <tr>\n",
       "      <th>Year/Month</th>\n",
       "      <td>-8.597654e-12</td>\n",
       "      <td>1.000000e+00</td>\n",
       "      <td>-1.795593e-13</td>\n",
       "      <td>-2.664970e-17</td>\n",
       "      <td>-5.436912e-15</td>\n",
       "      <td>0.013605</td>\n",
       "    </tr>\n",
       "    <tr>\n",
       "      <th>Dwelling Status</th>\n",
       "      <td>1.543649e-14</td>\n",
       "      <td>-1.795593e-13</td>\n",
       "      <td>1.000000e+00</td>\n",
       "      <td>-9.395965e-18</td>\n",
       "      <td>-1.655645e-16</td>\n",
       "      <td>-0.014121</td>\n",
       "    </tr>\n",
       "    <tr>\n",
       "      <th>Stamp Duty Event</th>\n",
       "      <td>-2.572692e-14</td>\n",
       "      <td>-2.664970e-17</td>\n",
       "      <td>-9.395965e-18</td>\n",
       "      <td>1.000000e+00</td>\n",
       "      <td>-7.542177e-19</td>\n",
       "      <td>-0.001298</td>\n",
       "    </tr>\n",
       "    <tr>\n",
       "      <th>Type of Buyer</th>\n",
       "      <td>-1.168811e-14</td>\n",
       "      <td>-5.436912e-15</td>\n",
       "      <td>-1.655645e-16</td>\n",
       "      <td>-7.542177e-19</td>\n",
       "      <td>1.000000e+00</td>\n",
       "      <td>-0.085167</td>\n",
       "    </tr>\n",
       "    <tr>\n",
       "      <th>Price</th>\n",
       "      <td>7.135622e-01</td>\n",
       "      <td>1.360489e-02</td>\n",
       "      <td>-1.412076e-02</td>\n",
       "      <td>-1.298153e-03</td>\n",
       "      <td>-8.516661e-02</td>\n",
       "      <td>1.000000</td>\n",
       "    </tr>\n",
       "  </tbody>\n",
       "</table>\n",
       "</div>"
      ],
      "text/plain": [
       "                     Statistic    Year/Month  Dwelling Status  \\\n",
       "Statistic         1.000000e+00 -8.597654e-12     1.543649e-14   \n",
       "Year/Month       -8.597654e-12  1.000000e+00    -1.795593e-13   \n",
       "Dwelling Status   1.543649e-14 -1.795593e-13     1.000000e+00   \n",
       "Stamp Duty Event -2.572692e-14 -2.664970e-17    -9.395965e-18   \n",
       "Type of Buyer    -1.168811e-14 -5.436912e-15    -1.655645e-16   \n",
       "Price             7.135622e-01  1.360489e-02    -1.412076e-02   \n",
       "\n",
       "                  Stamp Duty Event  Type of Buyer     Price  \n",
       "Statistic            -2.572692e-14  -1.168811e-14  0.713562  \n",
       "Year/Month           -2.664970e-17  -5.436912e-15  0.013605  \n",
       "Dwelling Status      -9.395965e-18  -1.655645e-16 -0.014121  \n",
       "Stamp Duty Event      1.000000e+00  -7.542177e-19 -0.001298  \n",
       "Type of Buyer        -7.542177e-19   1.000000e+00 -0.085167  \n",
       "Price                -1.298153e-03  -8.516661e-02  1.000000  "
      ]
     },
     "execution_count": 28,
     "metadata": {},
     "output_type": "execute_result"
    },
    {
     "data": {
      "image/png": "[encoded data removed]",
      "text/plain": [
       "<Figure size 2000x1000 with 2 Axes>"
      ]
     },
     "metadata": {},
     "output_type": "display_data"
    }
   ],
   "source": [
    "df_numeric = df.select_dtypes(include = ['number'])\n",
    "\n",
    "plt.figure(figsize = (20, 10))\n",
    "correlation_matrix = df_numeric.corr()\n",
    "\n",
    "sns.heatmap(correlation_matrix, cmap = \"BrBG\", annot = True)\n",
    "correlation_matrix"
   ]
  },
  {
   "cell_type": "code",
   "execution_count": 32,
   "id": "4d373a27-237d-4a2d-a65e-fe47d7ea6068",
   "metadata": {},
   "outputs": [
    {
     "data": {
      "text/plain": [
       "<Axes: xlabel='Statistic', ylabel='Price'>"
      ]
     },
     "execution_count": 32,
     "metadata": {},
     "output_type": "execute_result"
    },
    {
     "data": {
      "image/png": "[encoded data removed]",
      "text/plain": [
       "<Figure size 640x480 with 1 Axes>"
      ]
     },
     "metadata": {},
     "output_type": "display_data"
    }
   ],
   "source": [
    "sns.scatterplot(data = df, x = \"Statistic\", y = \"Price\")"
   ]
  },
  {
   "cell_type": "code",
   "execution_count": null,
   "id": "1d7be231-6a36-425d-88e7-b80f2264a3e3",
   "metadata": {},
   "outputs": [],
   "source": []
  },
  {
   "cell_type": "code",
   "execution_count": null,
   "id": "e96b1d20-615d-47dd-8343-8465a1a05170",
   "metadata": {},
   "outputs": [],
   "source": []
  },
  {
   "cell_type": "code",
   "execution_count": null,
   "id": "d602605c-25e1-4917-b079-06baae192237",
   "metadata": {},
   "outputs": [],
   "source": []
  },
  {
   "cell_type": "code",
   "execution_count": null,
   "id": "74a38fce-20b2-48c2-bd60-87068e119385",
   "metadata": {},
   "outputs": [],
   "source": []
  },
  {
   "cell_type": "code",
   "execution_count": null,
   "id": "0fb800d2-fdfc-4979-ad00-a1ddf7de6c47",
   "metadata": {},
   "outputs": [],
   "source": []
  },
  {
   "cell_type": "code",
   "execution_count": null,
   "id": "cfdd07db-a9b0-4d42-90d0-749b6b87809c",
   "metadata": {},
   "outputs": [],
   "source": []
  },
  {
   "cell_type": "code",
   "execution_count": null,
   "id": "e6608bd1-43ef-431e-ade1-246694a2d78c",
   "metadata": {},
   "outputs": [],
   "source": []
  },
  {
   "cell_type": "code",
   "execution_count": null,
   "id": "64c7eb34-bec8-4449-bca3-cee395970e0b",
   "metadata": {},
   "outputs": [],
   "source": []
  },
  {
   "cell_type": "code",
   "execution_count": null,
   "id": "08fbcb0c-b289-47d4-b7c4-ec9d0c8984a5",
   "metadata": {},
   "outputs": [],
   "source": []
  },
  {
   "cell_type": "code",
   "execution_count": null,
   "id": "2d3dfe5e-7f15-49ee-a850-3068062d9c53",
   "metadata": {},
   "outputs": [],
   "source": []
  },
  {
   "cell_type": "code",
   "execution_count": null,
   "id": "59cb646b-2582-4e91-a5c3-0fcd3d83d3f5",
   "metadata": {},
   "outputs": [],
   "source": []
  },
  {
   "cell_type": "code",
   "execution_count": null,
   "id": "c0b404f0-6fa4-4a74-9ddf-ab5bfc7f0280",
   "metadata": {},
   "outputs": [],
   "source": []
  },
  {
   "cell_type": "code",
   "execution_count": null,
   "id": "e2cc33ee-e6a7-46ca-9511-e578a1a5a1f7",
   "metadata": {},
   "outputs": [],
   "source": []
  },
  {
   "cell_type": "code",
   "execution_count": null,
   "id": "b8dbda70-2dbb-4965-bc9e-6e437f805fce",
   "metadata": {},
   "outputs": [],
   "source": []
  },
  {
   "cell_type": "code",
   "execution_count": null,
   "id": "f1c2a07c-c9e5-475a-81e1-bbe2655cf563",
   "metadata": {},
   "outputs": [],
   "source": []
  },
  {
   "cell_type": "code",
   "execution_count": null,
   "id": "3f6b70d0-334d-40ec-bf57-f938d8a802af",
   "metadata": {},
   "outputs": [],
   "source": []
  },
  {
   "cell_type": "code",
   "execution_count": null,
   "id": "953dea59-2fd1-4c82-9082-0c23da0c2380",
   "metadata": {},
   "outputs": [],
   "source": []
  },
  {
   "cell_type": "code",
   "execution_count": null,
   "id": "e10d7a7d-1635-4517-912b-91d4a2f8b64a",
   "metadata": {},
   "outputs": [],
   "source": []
  },
  {
   "cell_type": "code",
   "execution_count": null,
   "id": "284ad5f5-cc5b-45fc-867b-2491b136be42",
   "metadata": {},
   "outputs": [],
   "source": []
  },
  {
   "cell_type": "code",
   "execution_count": null,
   "id": "d772fd1c-7ae5-4990-8e1d-946251aeef83",
   "metadata": {},
   "outputs": [],
   "source": []
  },
  {
   "cell_type": "code",
   "execution_count": null,
   "id": "5d53bc95-dce1-411f-9f54-0e0b0e7d95f3",
   "metadata": {},
   "outputs": [],
   "source": []
  },
  {
   "cell_type": "code",
   "execution_count": null,
   "id": "c47c8572-07d2-45fd-96ee-d815899b1004",
   "metadata": {},
   "outputs": [],
   "source": []
  },
  {
   "cell_type": "code",
   "execution_count": null,
   "id": "9df060fb-ae33-4fb3-9099-3102543b0e2c",
   "metadata": {},
   "outputs": [],
   "source": []
  },
  {
   "cell_type": "code",
   "execution_count": null,
   "id": "b7d263b6-7059-48de-a620-040308f84bb8",
   "metadata": {},
   "outputs": [],
   "source": []
  },
  {
   "cell_type": "code",
   "execution_count": null,
   "id": "8c72dbe5-d628-4e3d-8911-2ca9ee11fea9",
   "metadata": {},
   "outputs": [],
   "source": []
  },
  {
   "cell_type": "code",
   "execution_count": null,
   "id": "6d4e5799-9947-4d96-8116-9dd943e1c4e0",
   "metadata": {},
   "outputs": [],
   "source": []
  },
  {
   "cell_type": "code",
   "execution_count": null,
   "id": "859bfdc7-e555-4095-903c-064688074ccc",
   "metadata": {},
   "outputs": [],
   "source": []
  },
  {
   "cell_type": "code",
   "execution_count": null,
   "id": "9dd6991e-0415-499e-9062-a9a8ec246b2e",
   "metadata": {},
   "outputs": [],
   "source": []
  },
  {
   "cell_type": "code",
   "execution_count": null,
   "id": "64fbc861-7da1-4b8a-b738-857033a5ea66",
   "metadata": {},
   "outputs": [],
   "source": []
  },
  {
   "cell_type": "code",
   "execution_count": null,
   "id": "c915e61a-5594-461c-8faa-1694bccb7967",
   "metadata": {},
   "outputs": [],
   "source": []
  },
  {
   "cell_type": "code",
   "execution_count": null,
   "id": "32c56ec0-d5d5-427f-bb7a-f07f681c0296",
   "metadata": {},
   "outputs": [],
   "source": []
  },
  {
   "cell_type": "markdown",
   "id": "232d5319-7e70-4b3a-84be-5c65415f063f",
   "metadata": {},
   "source": [
    "### DATA DICTIONARY\n",
    "\n",
    "**STATISTIC -> Statistic ID:**\n",
    "- HPM04C01: Volume of Sales (Number)\n",
    "- HPM04C02: Value of Sales (Euro Million)\n",
    "- HPM04C03: Mean Sale Price (Euro)\n",
    "- HPM04C04: Median Price (Euro)\n",
    "\n",
    "**Statistic Label**\n",
    "- Volume of Sales: Volume of Sales (Number)\n",
    "- Value of Sales: Value of Sales (Euro Million)\n",
    "- Mean Sale Price: Mean Sale Price (Euro)\n",
    "- Median Price: Median Price (Euro)\n",
    "\n",
    "**TLIST(M1) -> Year Month**\n",
    "- Range from 2022-Jan to 2024-Jan: \"202201, 202202, 202203, 202204, 202205, 202206, 202207, 202208, 202209, 202210, 202211, 202212, 202301, 202302, 202303, 202304, 202305, 202306, 202307, 202308, 202309, 202310, 202311, 202312, 202401\"\n",
    "\n",
    "**Month**\n",
    "- Rage from 2022 Janeiro to 2024 Janeiro: \"'2022 January', '2022 February', '2022 March', '2022 April', '2022 May', '2022 June', '2022 July', '2022 August', '2022 September', '2022 October', '2022 November', '2022 December', '2023 January', '2023 February', '2023 March', '2023 April', '2023 May', '2023 June', '2023 July', '2023 August', '2023 September', '2023 October', '2023 November', '2023 December', '2024 January'\"\n",
    "\n",
    "**C03346V04033 -> Dwelling Status ID**\n",
    "- '-' - All Dwelling Statuses\n",
    "- 01 - New\n",
    "- 02 - Existing\n",
    "\n",
    "**Dwelling Status**\n",
    "- All Dwelling Statuses\n",
    "- New\n",
    "- Existing\n",
    "\n",
    "**C03349V04063 -> Eircode ID**\n",
    "- '-' - All \n",
    "- 'A41', 'A42', 'A45', 'A63', 'A67', 'A75', 'A81', 'A82', 'A83', 'A84', 'A85', 'A86', 'A91', 'A92', 'A94', 'A96', 'A98', 'C15', 'D01', 'D02', 'D03', 'D04', 'D05', 'D06', 'D07', 'D08', 'D09', 'D10', 'D11', 'D12', 'D13', 'D14', 'D15', 'D16', 'D17', 'D18', 'D20', 'D22', 'D24', 'D6W', 'E21', 'E25', 'E32', 'E34', 'E41', 'E45', 'E53', 'E91', 'F12', 'F23', 'F26', 'F28', 'F31', 'F35', 'F42', 'F45', 'F52', 'F56', 'F91', 'F92', 'F93', 'F94', 'H12', 'H14', 'H16', 'H18', 'H23', 'H53', 'H54', 'H62', 'H65', 'H71', 'H91', 'K32', 'K34', 'K36', 'K45', 'K56', 'K67', 'K78', 'N37', 'N39', 'N41', 'N91', 'P12', 'P14', 'P17', 'P24', 'P25', 'P31', 'P32', 'P36', 'P43', 'P47', 'P51', 'P56', 'P61', 'P67', 'P72', 'P75', 'P81', 'P85', 'R14', 'R21', 'R32', 'R35', 'R42', 'R45', 'R51', 'R56', 'R93', 'R95', 'T12', 'T23', 'T34', 'T45', 'T56', 'V14', 'V15', 'V23', 'V31', 'V35', 'V42', 'V92', 'V93', 'V94', 'V95', 'W12', 'W23', 'W34', 'W91', 'X35', 'X42', 'X91', 'Y14', 'Y21', 'Y25', 'Y34', 'Y35'\n",
    "\n",
    "**Eircode Output -> Eircode**\n",
    "- 'All'\n",
    "- Eircodes\n",
    "\n",
    "**C03341V04028 - Stamp Duty Event ID**\n",
    "- 1: Filings\n",
    "- 2: Executions\n",
    "\n",
    "**Stamp Duty Event** \n",
    "- Filings\n",
    "- Executions\n",
    "\n",
    "**C03344V04031 -> Type of Buyer ID** \n",
    "- '-' - All Buyer Types\n",
    "- 02 - Household Buyer - First-Time Buyer Owner-Occupier\n",
    "- 03 - Household Buyer - Former Owner-Occupier\n",
    "- 04 - Household Buyer - Non-Occupier\n",
    "\n",
    "**Type of Buyer** \n",
    "- All Buyer Types\n",
    "- Household Buyer - First-Time Buyer Owner-Occupier\n",
    "- Household Buyer - Former Owner-Occupier\n",
    "- Household Buyer - Non-Occupier\n",
    "\n",
    "**UNIT -> Unit**\n",
    "- Number\n",
    "- Euro Million\n",
    "- Euro\n",
    "\n",
    "**VALUE -> Price**\n",
    "Price of the property"
   ]
  },
  {
   "cell_type": "code",
   "execution_count": null,
   "id": "cdd7a0d2-97be-4e2d-9483-a2596e9b6172",
   "metadata": {},
   "outputs": [],
   "source": []
  }
 ],
 "metadata": {
  "kernelspec": {
   "display_name": "Python 3 (ipykernel)",
   "language": "python",
   "name": "python3"
  },
  "language_info": {
   "codemirror_mode": {
    "name": "ipython",
    "version": 3
   },
   "file_extension": ".py",
   "mimetype": "text/x-python",
   "name": "python",
   "nbconvert_exporter": "python",
   "pygments_lexer": "ipython3",
   "version": "3.11.5"
  }
 },
 "nbformat": 4,
 "nbformat_minor": 5
}
